{
 "cells": [
  {
   "cell_type": "code",
   "execution_count": 1,
   "metadata": {},
   "outputs": [
    {
     "ename": "ModuleNotFoundError",
     "evalue": "No module named 'indexer'",
     "output_type": "error",
     "traceback": [
      "\u001b[1;31m---------------------------------------------------------------------------\u001b[0m",
      "\u001b[1;31mModuleNotFoundError\u001b[0m                       Traceback (most recent call last)",
      "\u001b[1;32m<ipython-input-1-6fc7f36b2bb9>\u001b[0m in \u001b[0;36m<module>\u001b[1;34m\u001b[0m\n\u001b[0;32m      4\u001b[0m \u001b[1;32mimport\u001b[0m \u001b[0mseaborn\u001b[0m \u001b[1;32mas\u001b[0m \u001b[0msns\u001b[0m\u001b[1;33m\u001b[0m\u001b[1;33m\u001b[0m\u001b[0m\n\u001b[0;32m      5\u001b[0m \u001b[1;32mfrom\u001b[0m \u001b[0mtqdm\u001b[0m \u001b[1;32mimport\u001b[0m \u001b[0mtqdm_notebook\u001b[0m \u001b[1;32mas\u001b[0m \u001b[0mtqdm\u001b[0m\u001b[1;33m\u001b[0m\u001b[1;33m\u001b[0m\u001b[0m\n\u001b[1;32m----> 6\u001b[1;33m \u001b[1;32mfrom\u001b[0m \u001b[0mspellchecker\u001b[0m \u001b[1;32mimport\u001b[0m \u001b[0mSpellChecker\u001b[0m\u001b[1;33m\u001b[0m\u001b[1;33m\u001b[0m\u001b[0m\n\u001b[0m",
      "\u001b[1;32m~\\anaconda3\\lib\\site-packages\\spellchecker\\__init__.py\u001b[0m in \u001b[0;36m<module>\u001b[1;34m\u001b[0m\n\u001b[0;32m      1\u001b[0m \u001b[1;31m# -*- coding: utf-8 -*-\u001b[0m\u001b[1;33m\u001b[0m\u001b[1;33m\u001b[0m\u001b[1;33m\u001b[0m\u001b[0m\n\u001b[1;32m----> 2\u001b[1;33m \u001b[1;32mfrom\u001b[0m  \u001b[0mspellchecker\u001b[0m\u001b[1;33m.\u001b[0m\u001b[0mcore\u001b[0m \u001b[1;32mimport\u001b[0m \u001b[0mSpellchecker\u001b[0m\u001b[1;33m,\u001b[0m\u001b[0mgetInstance\u001b[0m\u001b[1;33m\u001b[0m\u001b[1;33m\u001b[0m\u001b[0m\n\u001b[0m\u001b[0;32m      3\u001b[0m \u001b[1;33m\u001b[0m\u001b[0m\n",
      "\u001b[1;32m~\\anaconda3\\lib\\site-packages\\spellchecker\\core.py\u001b[0m in \u001b[0;36m<module>\u001b[1;34m\u001b[0m\n\u001b[0;32m     24\u001b[0m \u001b[1;32mimport\u001b[0m \u001b[0murllib\u001b[0m\u001b[1;33m\u001b[0m\u001b[1;33m\u001b[0m\u001b[0m\n\u001b[0;32m     25\u001b[0m \u001b[1;33m\u001b[0m\u001b[0m\n\u001b[1;32m---> 26\u001b[1;33m \u001b[1;32mfrom\u001b[0m \u001b[0mindexer\u001b[0m \u001b[1;32mimport\u001b[0m \u001b[0mDictionaryIndex\u001b[0m\u001b[1;33m\u001b[0m\u001b[1;33m\u001b[0m\u001b[0m\n\u001b[0m\u001b[0;32m     27\u001b[0m \u001b[1;32mfrom\u001b[0m \u001b[0mlangdetect\u001b[0m \u001b[1;32mimport\u001b[0m \u001b[0m_detect_lang\u001b[0m\u001b[1;33m\u001b[0m\u001b[1;33m\u001b[0m\u001b[0m\n\u001b[0;32m     28\u001b[0m \u001b[1;33m\u001b[0m\u001b[0m\n",
      "\u001b[1;31mModuleNotFoundError\u001b[0m: No module named 'indexer'"
     ]
    }
   ],
   "source": [
    "import numpy as np\n",
    "import pandas as pd\n",
    "import matplotlib.pyplot as plt\n",
    "import seaborn as sns\n",
    "from tqdm import tqdm_notebook as tqdm\n",
    "from spellchecker import SpellChecker "
   ]
  },
  {
   "cell_type": "code",
   "execution_count": 3,
   "metadata": {},
   "outputs": [],
   "source": [
    "df=pd.read_csv(r'C:\\Users\\Pravash Ranjan\\Downloads\\filtered_tweet.csv',sep=',',names=[\"tweet\",\"class\"])"
   ]
  },
  {
   "cell_type": "code",
   "execution_count": 4,
   "metadata": {},
   "outputs": [
    {
     "data": {
      "text/html": [
       "<div>\n",
       "<style scoped>\n",
       "    .dataframe tbody tr th:only-of-type {\n",
       "        vertical-align: middle;\n",
       "    }\n",
       "\n",
       "    .dataframe tbody tr th {\n",
       "        vertical-align: top;\n",
       "    }\n",
       "\n",
       "    .dataframe thead th {\n",
       "        text-align: right;\n",
       "    }\n",
       "</style>\n",
       "<table border=\"1\" class=\"dataframe\">\n",
       "  <thead>\n",
       "    <tr style=\"text-align: right;\">\n",
       "      <th></th>\n",
       "      <th>tweet</th>\n",
       "      <th>class</th>\n",
       "    </tr>\n",
       "  </thead>\n",
       "  <tbody>\n",
       "    <tr>\n",
       "      <th>0</th>\n",
       "      <td>rt woman shouldnt complain cleaning house amp man always take trash</td>\n",
       "      <td>2</td>\n",
       "    </tr>\n",
       "    <tr>\n",
       "      <th>1</th>\n",
       "      <td>rt boy dats coldtyga dwn bad cuffin dat hoe 1st place</td>\n",
       "      <td>1</td>\n",
       "    </tr>\n",
       "    <tr>\n",
       "      <th>2</th>\n",
       "      <td>rt dawg rt ever fuck bitch start cry confused shit</td>\n",
       "      <td>1</td>\n",
       "    </tr>\n",
       "    <tr>\n",
       "      <th>3</th>\n",
       "      <td>rt look like tranny</td>\n",
       "      <td>1</td>\n",
       "    </tr>\n",
       "    <tr>\n",
       "      <th>4</th>\n",
       "      <td>rt shit hear might true might faker bitch told ya 57361</td>\n",
       "      <td>1</td>\n",
       "    </tr>\n",
       "  </tbody>\n",
       "</table>\n",
       "</div>"
      ],
      "text/plain": [
       "                                                                 tweet  class\n",
       "0  rt woman shouldnt complain cleaning house amp man always take trash  2    \n",
       "1  rt boy dats coldtyga dwn bad cuffin dat hoe 1st place                1    \n",
       "2  rt dawg rt ever fuck bitch start cry confused shit                   1    \n",
       "3  rt look like tranny                                                  1    \n",
       "4  rt shit hear might true might faker bitch told ya 57361              1    "
      ]
     },
     "execution_count": 4,
     "metadata": {},
     "output_type": "execute_result"
    }
   ],
   "source": [
    "pd.set_option('display.max_colwidth', -1)\n",
    "df.head()"
   ]
  },
  {
   "cell_type": "code",
   "execution_count": 4,
   "metadata": {},
   "outputs": [
    {
     "name": "stdout",
     "output_type": "stream",
     "text": [
      "{'scoff', 'skiff', 'sheff', 'stuff', 'sdf', 'snuff', 'diff', 'staff', 'scuff', 'sadf', 'sniff', 'duff', 'ssdf', 'stiff', 'doff'}\n"
     ]
    }
   ],
   "source": [
    "spl=SpellChecker()\n",
    "print(spl.candidates(\"sddff\"))"
   ]
  },
  {
   "cell_type": "code",
   "execution_count": 5,
   "metadata": {},
   "outputs": [],
   "source": [
    "glove=pd.read_csv(\"C:\\\\Users\\\\Pravash Ranjan\\\\Downloads\\\\glove.6B\\\\new.txt\",encoding=\"utf8\")"
   ]
  },
  {
   "cell_type": "code",
   "execution_count": 6,
   "metadata": {
    "scrolled": false
   },
   "outputs": [],
   "source": [
    "embeddings={}\n",
    "for i,ser in glove.iterrows():\n",
    "    vectors=\"\"\n",
    "    c=0\n",
    "    for x in ser:\n",
    "        if(c>0):\n",
    "            vectors=vectors+str(x)+\",\"\n",
    "        c+=1\n",
    "    vectors=vectors[:-1]\n",
    "    embeddings[ser.Words]=vectors"
   ]
  },
  {
   "cell_type": "code",
   "execution_count": 7,
   "metadata": {
    "scrolled": true
   },
   "outputs": [
    {
     "data": {
      "text/html": [
       "<div>\n",
       "<style scoped>\n",
       "    .dataframe tbody tr th:only-of-type {\n",
       "        vertical-align: middle;\n",
       "    }\n",
       "\n",
       "    .dataframe tbody tr th {\n",
       "        vertical-align: top;\n",
       "    }\n",
       "\n",
       "    .dataframe thead th {\n",
       "        text-align: right;\n",
       "    }\n",
       "</style>\n",
       "<table border=\"1\" class=\"dataframe\">\n",
       "  <thead>\n",
       "    <tr style=\"text-align: right;\">\n",
       "      <th></th>\n",
       "      <th>tweet</th>\n",
       "      <th>class</th>\n",
       "    </tr>\n",
       "  </thead>\n",
       "  <tbody>\n",
       "    <tr>\n",
       "      <th>0</th>\n",
       "      <td>rt woman shouldnt complain cleaning house amp man always take trash</td>\n",
       "      <td>2</td>\n",
       "    </tr>\n",
       "    <tr>\n",
       "      <th>1</th>\n",
       "      <td>rt boy dats coldtyga dwn bad cuffin dat hoe 1st place</td>\n",
       "      <td>1</td>\n",
       "    </tr>\n",
       "    <tr>\n",
       "      <th>2</th>\n",
       "      <td>rt dawg rt ever fuck bitch start cry confused shit</td>\n",
       "      <td>1</td>\n",
       "    </tr>\n",
       "    <tr>\n",
       "      <th>3</th>\n",
       "      <td>rt look like tranny</td>\n",
       "      <td>1</td>\n",
       "    </tr>\n",
       "    <tr>\n",
       "      <th>4</th>\n",
       "      <td>rt shit hear might true might faker bitch told ya 57361</td>\n",
       "      <td>1</td>\n",
       "    </tr>\n",
       "  </tbody>\n",
       "</table>\n",
       "</div>"
      ],
      "text/plain": [
       "                                                                 tweet  class\n",
       "0  rt woman shouldnt complain cleaning house amp man always take trash  2    \n",
       "1  rt boy dats coldtyga dwn bad cuffin dat hoe 1st place                1    \n",
       "2  rt dawg rt ever fuck bitch start cry confused shit                   1    \n",
       "3  rt look like tranny                                                  1    \n",
       "4  rt shit hear might true might faker bitch told ya 57361              1    "
      ]
     },
     "execution_count": 7,
     "metadata": {},
     "output_type": "execute_result"
    }
   ],
   "source": [
    "len(embeddings[\"hello\"].split(\",\"))\n",
    "df.head()"
   ]
  },
  {
   "cell_type": "code",
   "execution_count": null,
   "metadata": {},
   "outputs": [],
   "source": [
    "for i in range(1,51):\n",
    "    col=\"mean_vec\"+str(i)\n",
    "    df[col]=0.0"
   ]
  },
  {
   "cell_type": "code",
   "execution_count": 36,
   "metadata": {},
   "outputs": [
    {
     "data": {
      "text/html": [
       "<div>\n",
       "<style scoped>\n",
       "    .dataframe tbody tr th:only-of-type {\n",
       "        vertical-align: middle;\n",
       "    }\n",
       "\n",
       "    .dataframe tbody tr th {\n",
       "        vertical-align: top;\n",
       "    }\n",
       "\n",
       "    .dataframe thead th {\n",
       "        text-align: right;\n",
       "    }\n",
       "</style>\n",
       "<table border=\"1\" class=\"dataframe\">\n",
       "  <thead>\n",
       "    <tr style=\"text-align: right;\">\n",
       "      <th></th>\n",
       "      <th>tweet</th>\n",
       "      <th>class</th>\n",
       "    </tr>\n",
       "  </thead>\n",
       "  <tbody>\n",
       "    <tr>\n",
       "      <th>0</th>\n",
       "      <td>rt woman shouldnt complain cleaning house amp man always take trash</td>\n",
       "      <td>2</td>\n",
       "    </tr>\n",
       "    <tr>\n",
       "      <th>1</th>\n",
       "      <td>rt boy dats coldtyga dwn bad cuffin dat hoe 1st place</td>\n",
       "      <td>1</td>\n",
       "    </tr>\n",
       "  </tbody>\n",
       "</table>\n",
       "</div>"
      ],
      "text/plain": [
       "                                                                 tweet  class\n",
       "0  rt woman shouldnt complain cleaning house amp man always take trash  2    \n",
       "1  rt boy dats coldtyga dwn bad cuffin dat hoe 1st place                1    "
      ]
     },
     "execution_count": 36,
     "metadata": {},
     "output_type": "execute_result"
    }
   ],
   "source": [
    "df2=df.copy(deep=True)\n",
    "df2.head(2)"
   ]
  },
  {
   "cell_type": "code",
   "execution_count": 8,
   "metadata": {},
   "outputs": [
    {
     "data": {
      "application/vnd.jupyter.widget-view+json": {
       "model_id": "668174fb9076492f8bb432e51ad8e270",
       "version_major": 2,
       "version_minor": 0
      },
      "text/plain": [
       "HBox(children=(IntProgress(value=0, max=24783), HTML(value='')))"
      ]
     },
     "metadata": {},
     "output_type": "display_data"
    },
    {
     "name": "stdout",
     "output_type": "stream",
     "text": [
      "\n"
     ]
    }
   ],
   "source": [
    "words=set(embeddings.keys())\n",
    "j=0\n",
    "for i in tqdm(range(df.shape[0])): #df.shape[0]\n",
    "    st=\"\"\n",
    "    str_ar=df[\"tweet\"][i].split()\n",
    "    mean_vec=np.zeros(50)\n",
    "    #corr_ar=[spl.correction(s) for s in str_ar]\n",
    "    cnt=1\n",
    "    \n",
    "    for st in str_ar:\n",
    "        if(st in words):\n",
    "            cnt+=1\n",
    "            ar=embeddings[st].split(',')\n",
    "            vec=np.array([float(j) for j in ar])\n",
    "            mean_vec=mean_vec+vec\n",
    "    mean_vec=mean_vec/cnt\n",
    "    #print(str(mean_vec))\n",
    "    df.loc[j,\"vec\"]=str(mean_vec).replace(\"\\n\",\"\").replace(\"[\",\"\").replace(\"]\",\"\")\n",
    "    j+=1\n",
    "        \n",
    "#df2[\"vec\"]        "
   ]
  },
  {
   "cell_type": "code",
   "execution_count": 11,
   "metadata": {},
   "outputs": [
    {
     "data": {
      "text/html": [
       "<div>\n",
       "<style scoped>\n",
       "    .dataframe tbody tr th:only-of-type {\n",
       "        vertical-align: middle;\n",
       "    }\n",
       "\n",
       "    .dataframe tbody tr th {\n",
       "        vertical-align: top;\n",
       "    }\n",
       "\n",
       "    .dataframe thead th {\n",
       "        text-align: right;\n",
       "    }\n",
       "</style>\n",
       "<table border=\"1\" class=\"dataframe\">\n",
       "  <thead>\n",
       "    <tr style=\"text-align: right;\">\n",
       "      <th></th>\n",
       "      <th>tweet</th>\n",
       "      <th>class</th>\n",
       "      <th>vec</th>\n",
       "    </tr>\n",
       "  </thead>\n",
       "  <tbody>\n",
       "    <tr>\n",
       "      <th>0</th>\n",
       "      <td>rt woman shouldnt complain cleaning house amp man always take trash</td>\n",
       "      <td>2</td>\n",
       "      <td>0.01066309  0.06847609  0.03572409 -0.24727209  0.32101491  0.115003 -0.29583309 -0.06283082 -0.09524455 -0.11146418 -0.37942927  0.12740845 -0.11684555 -0.00438146  0.23084264  0.05188045 -0.03516009  0.224424  0.101954   -0.56005109  0.18153364  0.39687636 -0.02460691  0.20758636  0.05548545 -1.22145909 -0.31650645  0.21116955  0.39691273 -0.21981936  1.91876273  0.18110591 -0.18506164 -0.11413747 -0.05630127  0.13288855  0.11177909 -0.13299545  0.41209955 -0.16516909  0.04543182  0.17734052 -0.04656708  0.33009773  0.357791    0.05426264 -0.34412255 -0.3845  0.34195355  0.22922355</td>\n",
       "    </tr>\n",
       "    <tr>\n",
       "      <th>1</th>\n",
       "      <td>rt boy dats coldtyga dwn bad cuffin dat hoe 1st place</td>\n",
       "      <td>1</td>\n",
       "      <td>-0.17645111 -0.09115652  0.12146333 -0.186287    0.14918222 -0.24914889  0.067549    0.01061128 -0.21458633 -0.08260667  0.07040867  0.37598444 -0.24848913 -0.12933111 -0.06299778 -0.09582967 -0.25386111  0.21457233 -0.17203667  0.06946078 -0.21764    -0.14165978  0.13288478  0.31645722 -0.04883333 -0.56465333 -0.22907111 -0.00887467  0.12828656 -0.38158578  1.08530222  0.16792556 -0.02642556  0.27866233  0.26802544  0.16945111  0.39644689 -0.26411333  0.20442367 -0.22590044  0.08461582 -0.12549122 -0.30119156 -0.10720556  0.20283244  0.01331222  0.20505778 -0.34593444  0.46426667  0.29502989</td>\n",
       "    </tr>\n",
       "    <tr>\n",
       "      <th>2</th>\n",
       "      <td>rt dawg rt ever fuck bitch start cry confused shit</td>\n",
       "      <td>1</td>\n",
       "      <td>-0.34639255 -0.25481009  0.03035818 -0.48848805  0.11144182 -0.25500591  0.05506273 -0.24740364 -0.32926327  0.42728691 -0.22226888  0.33682155 -0.08215709  0.05063891  0.11650273 -0.05999915 -0.04968636  0.20024605 -0.1602937   0.03478964 -0.33297636 -0.04708064  0.45623545  0.33156255  0.26081364 -0.53430455 -0.53127364  0.27800736  0.36997545 -0.46416564  1.07350827  0.24430245 -0.00228509  0.40773818 -0.30787934 -0.16467818  0.42473955 -0.57493891 -0.01453964 -0.26236364  0.03612245 -0.14740091 -0.647941    0.15952779  0.30835818  0.08666573 -0.05317764 -0.28937909  0.25567636  0.47841409</td>\n",
       "    </tr>\n",
       "    <tr>\n",
       "      <th>3</th>\n",
       "      <td>rt look like tranny</td>\n",
       "      <td>1</td>\n",
       "      <td>-0.145426    0.068306    0.0816916  -0.192932   -0.08891    -0.049942  0.072396   -0.46922    -0.135674    0.1714232  -0.1309378   0.361352 -0.104132    0.215254   -0.238672   -0.075014   -0.170242    0.2583186 -0.0382692  -0.5622744  -0.266026   -0.032238   -0.0319176   0.184872 -0.032942   -0.538798   -0.512762    0.2896216   0.310144   -0.3123744  1.14933     0.428302    0.0274548  -0.0333536   0.0099226   0.003466  0.197636   -0.244508   -0.07076    -0.158314    0.1407428   0.216196 -0.18903144  0.182434    0.183046    0.062062    0.065016   -0.110765  0.3167152   0.601816</td>\n",
       "    </tr>\n",
       "    <tr>\n",
       "      <th>4</th>\n",
       "      <td>rt shit hear might true might faker bitch told ya 57361</td>\n",
       "      <td>1</td>\n",
       "      <td>-0.06294364  0.04848782  0.19312345 -0.15106409  0.25097664 -0.15885527  0.016742   -0.00850291 -0.32655918  0.45229091 -0.10182709  0.42265891 -0.06213509  0.12248727  0.28511545  0.23196391  0.08613548  0.05957142  0.13219085 -0.10375836 -0.37726293  0.19080518  0.43892991  0.15758655  0.46611364 -1.00546818 -0.78743891  0.20501109  0.36316636 -0.47207736  1.32699545  0.09297067 -0.35451873  0.24378455 -0.11491291 -0.33006155  0.31335745 -0.41154164  0.18194673 -0.04392361 -0.00290382  0.10673727 -0.36330127  0.17078073  0.35454782 -0.13467655 -0.21924942  0.00805085  0.28912036  0.50493727</td>\n",
       "    </tr>\n",
       "  </tbody>\n",
       "</table>\n",
       "</div>"
      ],
      "text/plain": [
       "                                                                 tweet  class  \\\n",
       "0  rt woman shouldnt complain cleaning house amp man always take trash  2       \n",
       "1  rt boy dats coldtyga dwn bad cuffin dat hoe 1st place                1       \n",
       "2  rt dawg rt ever fuck bitch start cry confused shit                   1       \n",
       "3  rt look like tranny                                                  1       \n",
       "4  rt shit hear might true might faker bitch told ya 57361              1       \n",
       "\n",
       "                                                                                                                                                                                                                                                                                                                                                                                                                                                                                                                                                                                                                       vec  \n",
       "0   0.01066309  0.06847609  0.03572409 -0.24727209  0.32101491  0.115003 -0.29583309 -0.06283082 -0.09524455 -0.11146418 -0.37942927  0.12740845 -0.11684555 -0.00438146  0.23084264  0.05188045 -0.03516009  0.224424  0.101954   -0.56005109  0.18153364  0.39687636 -0.02460691  0.20758636  0.05548545 -1.22145909 -0.31650645  0.21116955  0.39691273 -0.21981936  1.91876273  0.18110591 -0.18506164 -0.11413747 -0.05630127  0.13288855  0.11177909 -0.13299545  0.41209955 -0.16516909  0.04543182  0.17734052 -0.04656708  0.33009773  0.357791    0.05426264 -0.34412255 -0.3845  0.34195355  0.22922355          \n",
       "1  -0.17645111 -0.09115652  0.12146333 -0.186287    0.14918222 -0.24914889  0.067549    0.01061128 -0.21458633 -0.08260667  0.07040867  0.37598444 -0.24848913 -0.12933111 -0.06299778 -0.09582967 -0.25386111  0.21457233 -0.17203667  0.06946078 -0.21764    -0.14165978  0.13288478  0.31645722 -0.04883333 -0.56465333 -0.22907111 -0.00887467  0.12828656 -0.38158578  1.08530222  0.16792556 -0.02642556  0.27866233  0.26802544  0.16945111  0.39644689 -0.26411333  0.20442367 -0.22590044  0.08461582 -0.12549122 -0.30119156 -0.10720556  0.20283244  0.01331222  0.20505778 -0.34593444  0.46426667  0.29502989  \n",
       "2  -0.34639255 -0.25481009  0.03035818 -0.48848805  0.11144182 -0.25500591  0.05506273 -0.24740364 -0.32926327  0.42728691 -0.22226888  0.33682155 -0.08215709  0.05063891  0.11650273 -0.05999915 -0.04968636  0.20024605 -0.1602937   0.03478964 -0.33297636 -0.04708064  0.45623545  0.33156255  0.26081364 -0.53430455 -0.53127364  0.27800736  0.36997545 -0.46416564  1.07350827  0.24430245 -0.00228509  0.40773818 -0.30787934 -0.16467818  0.42473955 -0.57493891 -0.01453964 -0.26236364  0.03612245 -0.14740091 -0.647941    0.15952779  0.30835818  0.08666573 -0.05317764 -0.28937909  0.25567636  0.47841409  \n",
       "3  -0.145426    0.068306    0.0816916  -0.192932   -0.08891    -0.049942  0.072396   -0.46922    -0.135674    0.1714232  -0.1309378   0.361352 -0.104132    0.215254   -0.238672   -0.075014   -0.170242    0.2583186 -0.0382692  -0.5622744  -0.266026   -0.032238   -0.0319176   0.184872 -0.032942   -0.538798   -0.512762    0.2896216   0.310144   -0.3123744  1.14933     0.428302    0.0274548  -0.0333536   0.0099226   0.003466  0.197636   -0.244508   -0.07076    -0.158314    0.1407428   0.216196 -0.18903144  0.182434    0.183046    0.062062    0.065016   -0.110765  0.3167152   0.601816                  \n",
       "4  -0.06294364  0.04848782  0.19312345 -0.15106409  0.25097664 -0.15885527  0.016742   -0.00850291 -0.32655918  0.45229091 -0.10182709  0.42265891 -0.06213509  0.12248727  0.28511545  0.23196391  0.08613548  0.05957142  0.13219085 -0.10375836 -0.37726293  0.19080518  0.43892991  0.15758655  0.46611364 -1.00546818 -0.78743891  0.20501109  0.36316636 -0.47207736  1.32699545  0.09297067 -0.35451873  0.24378455 -0.11491291 -0.33006155  0.31335745 -0.41154164  0.18194673 -0.04392361 -0.00290382  0.10673727 -0.36330127  0.17078073  0.35454782 -0.13467655 -0.21924942  0.00805085  0.28912036  0.50493727  "
      ]
     },
     "execution_count": 11,
     "metadata": {},
     "output_type": "execute_result"
    }
   ],
   "source": [
    "df.head()\n",
    "#print(len(df.loc[0,\"vec\"].split()))\n"
   ]
  },
  {
   "cell_type": "code",
   "execution_count": 12,
   "metadata": {},
   "outputs": [],
   "source": [
    "for i in range(0,50):\n",
    "    col=\"mv\"+str(i)\n",
    "    df[col]=0.0    "
   ]
  },
  {
   "cell_type": "code",
   "execution_count": 14,
   "metadata": {},
   "outputs": [
    {
     "data": {
      "application/vnd.jupyter.widget-view+json": {
       "model_id": "5dc3021caa2b464daabe8faeb00bec5a",
       "version_major": 2,
       "version_minor": 0
      },
      "text/plain": [
       "HBox(children=(IntProgress(value=0, max=24783), HTML(value='')))"
      ]
     },
     "metadata": {},
     "output_type": "display_data"
    },
    {
     "name": "stdout",
     "output_type": "stream",
     "text": [
      "\n"
     ]
    },
    {
     "data": {
      "text/html": [
       "<div>\n",
       "<style scoped>\n",
       "    .dataframe tbody tr th:only-of-type {\n",
       "        vertical-align: middle;\n",
       "    }\n",
       "\n",
       "    .dataframe tbody tr th {\n",
       "        vertical-align: top;\n",
       "    }\n",
       "\n",
       "    .dataframe thead th {\n",
       "        text-align: right;\n",
       "    }\n",
       "</style>\n",
       "<table border=\"1\" class=\"dataframe\">\n",
       "  <thead>\n",
       "    <tr style=\"text-align: right;\">\n",
       "      <th></th>\n",
       "      <th>tweet</th>\n",
       "      <th>class</th>\n",
       "      <th>vec</th>\n",
       "      <th>mv0</th>\n",
       "      <th>mv1</th>\n",
       "      <th>mv2</th>\n",
       "      <th>mv3</th>\n",
       "      <th>mv4</th>\n",
       "      <th>mv5</th>\n",
       "      <th>mv6</th>\n",
       "      <th>...</th>\n",
       "      <th>mv40</th>\n",
       "      <th>mv41</th>\n",
       "      <th>mv42</th>\n",
       "      <th>mv43</th>\n",
       "      <th>mv44</th>\n",
       "      <th>mv45</th>\n",
       "      <th>mv46</th>\n",
       "      <th>mv47</th>\n",
       "      <th>mv48</th>\n",
       "      <th>mv49</th>\n",
       "    </tr>\n",
       "  </thead>\n",
       "  <tbody>\n",
       "    <tr>\n",
       "      <th>0</th>\n",
       "      <td>rt woman shouldnt complain cleaning house amp man always take trash</td>\n",
       "      <td>2</td>\n",
       "      <td>0.01066309  0.06847609  0.03572409 -0.24727209  0.32101491  0.115003 -0.29583309 -0.06283082 -0.09524455 -0.11146418 -0.37942927  0.12740845 -0.11684555 -0.00438146  0.23084264  0.05188045 -0.03516009  0.224424  0.101954   -0.56005109  0.18153364  0.39687636 -0.02460691  0.20758636  0.05548545 -1.22145909 -0.31650645  0.21116955  0.39691273 -0.21981936  1.91876273  0.18110591 -0.18506164 -0.11413747 -0.05630127  0.13288855  0.11177909 -0.13299545  0.41209955 -0.16516909  0.04543182  0.17734052 -0.04656708  0.33009773  0.357791    0.05426264 -0.34412255 -0.3845  0.34195355  0.22922355</td>\n",
       "      <td>0.010663</td>\n",
       "      <td>0.068476</td>\n",
       "      <td>0.035724</td>\n",
       "      <td>-0.247272</td>\n",
       "      <td>0.321015</td>\n",
       "      <td>0.115003</td>\n",
       "      <td>-0.295833</td>\n",
       "      <td>...</td>\n",
       "      <td>0.045432</td>\n",
       "      <td>0.177341</td>\n",
       "      <td>-0.046567</td>\n",
       "      <td>0.330098</td>\n",
       "      <td>0.357791</td>\n",
       "      <td>0.054263</td>\n",
       "      <td>-0.344123</td>\n",
       "      <td>-0.384500</td>\n",
       "      <td>0.341954</td>\n",
       "      <td>0.229224</td>\n",
       "    </tr>\n",
       "    <tr>\n",
       "      <th>1</th>\n",
       "      <td>rt boy dats coldtyga dwn bad cuffin dat hoe 1st place</td>\n",
       "      <td>1</td>\n",
       "      <td>-0.17645111 -0.09115652  0.12146333 -0.186287    0.14918222 -0.24914889  0.067549    0.01061128 -0.21458633 -0.08260667  0.07040867  0.37598444 -0.24848913 -0.12933111 -0.06299778 -0.09582967 -0.25386111  0.21457233 -0.17203667  0.06946078 -0.21764    -0.14165978  0.13288478  0.31645722 -0.04883333 -0.56465333 -0.22907111 -0.00887467  0.12828656 -0.38158578  1.08530222  0.16792556 -0.02642556  0.27866233  0.26802544  0.16945111  0.39644689 -0.26411333  0.20442367 -0.22590044  0.08461582 -0.12549122 -0.30119156 -0.10720556  0.20283244  0.01331222  0.20505778 -0.34593444  0.46426667  0.29502989</td>\n",
       "      <td>-0.176451</td>\n",
       "      <td>-0.091157</td>\n",
       "      <td>0.121463</td>\n",
       "      <td>-0.186287</td>\n",
       "      <td>0.149182</td>\n",
       "      <td>-0.249149</td>\n",
       "      <td>0.067549</td>\n",
       "      <td>...</td>\n",
       "      <td>0.084616</td>\n",
       "      <td>-0.125491</td>\n",
       "      <td>-0.301192</td>\n",
       "      <td>-0.107206</td>\n",
       "      <td>0.202832</td>\n",
       "      <td>0.013312</td>\n",
       "      <td>0.205058</td>\n",
       "      <td>-0.345934</td>\n",
       "      <td>0.464267</td>\n",
       "      <td>0.295030</td>\n",
       "    </tr>\n",
       "    <tr>\n",
       "      <th>2</th>\n",
       "      <td>rt dawg rt ever fuck bitch start cry confused shit</td>\n",
       "      <td>1</td>\n",
       "      <td>-0.34639255 -0.25481009  0.03035818 -0.48848805  0.11144182 -0.25500591  0.05506273 -0.24740364 -0.32926327  0.42728691 -0.22226888  0.33682155 -0.08215709  0.05063891  0.11650273 -0.05999915 -0.04968636  0.20024605 -0.1602937   0.03478964 -0.33297636 -0.04708064  0.45623545  0.33156255  0.26081364 -0.53430455 -0.53127364  0.27800736  0.36997545 -0.46416564  1.07350827  0.24430245 -0.00228509  0.40773818 -0.30787934 -0.16467818  0.42473955 -0.57493891 -0.01453964 -0.26236364  0.03612245 -0.14740091 -0.647941    0.15952779  0.30835818  0.08666573 -0.05317764 -0.28937909  0.25567636  0.47841409</td>\n",
       "      <td>-0.346393</td>\n",
       "      <td>-0.254810</td>\n",
       "      <td>0.030358</td>\n",
       "      <td>-0.488488</td>\n",
       "      <td>0.111442</td>\n",
       "      <td>-0.255006</td>\n",
       "      <td>0.055063</td>\n",
       "      <td>...</td>\n",
       "      <td>0.036122</td>\n",
       "      <td>-0.147401</td>\n",
       "      <td>-0.647941</td>\n",
       "      <td>0.159528</td>\n",
       "      <td>0.308358</td>\n",
       "      <td>0.086666</td>\n",
       "      <td>-0.053178</td>\n",
       "      <td>-0.289379</td>\n",
       "      <td>0.255676</td>\n",
       "      <td>0.478414</td>\n",
       "    </tr>\n",
       "    <tr>\n",
       "      <th>3</th>\n",
       "      <td>rt look like tranny</td>\n",
       "      <td>1</td>\n",
       "      <td>-0.145426    0.068306    0.0816916  -0.192932   -0.08891    -0.049942  0.072396   -0.46922    -0.135674    0.1714232  -0.1309378   0.361352 -0.104132    0.215254   -0.238672   -0.075014   -0.170242    0.2583186 -0.0382692  -0.5622744  -0.266026   -0.032238   -0.0319176   0.184872 -0.032942   -0.538798   -0.512762    0.2896216   0.310144   -0.3123744  1.14933     0.428302    0.0274548  -0.0333536   0.0099226   0.003466  0.197636   -0.244508   -0.07076    -0.158314    0.1407428   0.216196 -0.18903144  0.182434    0.183046    0.062062    0.065016   -0.110765  0.3167152   0.601816</td>\n",
       "      <td>-0.145426</td>\n",
       "      <td>0.068306</td>\n",
       "      <td>0.081692</td>\n",
       "      <td>-0.192932</td>\n",
       "      <td>-0.088910</td>\n",
       "      <td>-0.049942</td>\n",
       "      <td>0.072396</td>\n",
       "      <td>...</td>\n",
       "      <td>0.140743</td>\n",
       "      <td>0.216196</td>\n",
       "      <td>-0.189031</td>\n",
       "      <td>0.182434</td>\n",
       "      <td>0.183046</td>\n",
       "      <td>0.062062</td>\n",
       "      <td>0.065016</td>\n",
       "      <td>-0.110765</td>\n",
       "      <td>0.316715</td>\n",
       "      <td>0.601816</td>\n",
       "    </tr>\n",
       "    <tr>\n",
       "      <th>4</th>\n",
       "      <td>rt shit hear might true might faker bitch told ya 57361</td>\n",
       "      <td>1</td>\n",
       "      <td>-0.06294364  0.04848782  0.19312345 -0.15106409  0.25097664 -0.15885527  0.016742   -0.00850291 -0.32655918  0.45229091 -0.10182709  0.42265891 -0.06213509  0.12248727  0.28511545  0.23196391  0.08613548  0.05957142  0.13219085 -0.10375836 -0.37726293  0.19080518  0.43892991  0.15758655  0.46611364 -1.00546818 -0.78743891  0.20501109  0.36316636 -0.47207736  1.32699545  0.09297067 -0.35451873  0.24378455 -0.11491291 -0.33006155  0.31335745 -0.41154164  0.18194673 -0.04392361 -0.00290382  0.10673727 -0.36330127  0.17078073  0.35454782 -0.13467655 -0.21924942  0.00805085  0.28912036  0.50493727</td>\n",
       "      <td>-0.062944</td>\n",
       "      <td>0.048488</td>\n",
       "      <td>0.193123</td>\n",
       "      <td>-0.151064</td>\n",
       "      <td>0.250977</td>\n",
       "      <td>-0.158855</td>\n",
       "      <td>0.016742</td>\n",
       "      <td>...</td>\n",
       "      <td>-0.002904</td>\n",
       "      <td>0.106737</td>\n",
       "      <td>-0.363301</td>\n",
       "      <td>0.170781</td>\n",
       "      <td>0.354548</td>\n",
       "      <td>-0.134677</td>\n",
       "      <td>-0.219249</td>\n",
       "      <td>0.008051</td>\n",
       "      <td>0.289120</td>\n",
       "      <td>0.504937</td>\n",
       "    </tr>\n",
       "  </tbody>\n",
       "</table>\n",
       "<p>5 rows × 53 columns</p>\n",
       "</div>"
      ],
      "text/plain": [
       "                                                                 tweet  class  \\\n",
       "0  rt woman shouldnt complain cleaning house amp man always take trash  2       \n",
       "1  rt boy dats coldtyga dwn bad cuffin dat hoe 1st place                1       \n",
       "2  rt dawg rt ever fuck bitch start cry confused shit                   1       \n",
       "3  rt look like tranny                                                  1       \n",
       "4  rt shit hear might true might faker bitch told ya 57361              1       \n",
       "\n",
       "                                                                                                                                                                                                                                                                                                                                                                                                                                                                                                                                                                                                                       vec  \\\n",
       "0   0.01066309  0.06847609  0.03572409 -0.24727209  0.32101491  0.115003 -0.29583309 -0.06283082 -0.09524455 -0.11146418 -0.37942927  0.12740845 -0.11684555 -0.00438146  0.23084264  0.05188045 -0.03516009  0.224424  0.101954   -0.56005109  0.18153364  0.39687636 -0.02460691  0.20758636  0.05548545 -1.22145909 -0.31650645  0.21116955  0.39691273 -0.21981936  1.91876273  0.18110591 -0.18506164 -0.11413747 -0.05630127  0.13288855  0.11177909 -0.13299545  0.41209955 -0.16516909  0.04543182  0.17734052 -0.04656708  0.33009773  0.357791    0.05426264 -0.34412255 -0.3845  0.34195355  0.22922355           \n",
       "1  -0.17645111 -0.09115652  0.12146333 -0.186287    0.14918222 -0.24914889  0.067549    0.01061128 -0.21458633 -0.08260667  0.07040867  0.37598444 -0.24848913 -0.12933111 -0.06299778 -0.09582967 -0.25386111  0.21457233 -0.17203667  0.06946078 -0.21764    -0.14165978  0.13288478  0.31645722 -0.04883333 -0.56465333 -0.22907111 -0.00887467  0.12828656 -0.38158578  1.08530222  0.16792556 -0.02642556  0.27866233  0.26802544  0.16945111  0.39644689 -0.26411333  0.20442367 -0.22590044  0.08461582 -0.12549122 -0.30119156 -0.10720556  0.20283244  0.01331222  0.20505778 -0.34593444  0.46426667  0.29502989   \n",
       "2  -0.34639255 -0.25481009  0.03035818 -0.48848805  0.11144182 -0.25500591  0.05506273 -0.24740364 -0.32926327  0.42728691 -0.22226888  0.33682155 -0.08215709  0.05063891  0.11650273 -0.05999915 -0.04968636  0.20024605 -0.1602937   0.03478964 -0.33297636 -0.04708064  0.45623545  0.33156255  0.26081364 -0.53430455 -0.53127364  0.27800736  0.36997545 -0.46416564  1.07350827  0.24430245 -0.00228509  0.40773818 -0.30787934 -0.16467818  0.42473955 -0.57493891 -0.01453964 -0.26236364  0.03612245 -0.14740091 -0.647941    0.15952779  0.30835818  0.08666573 -0.05317764 -0.28937909  0.25567636  0.47841409   \n",
       "3  -0.145426    0.068306    0.0816916  -0.192932   -0.08891    -0.049942  0.072396   -0.46922    -0.135674    0.1714232  -0.1309378   0.361352 -0.104132    0.215254   -0.238672   -0.075014   -0.170242    0.2583186 -0.0382692  -0.5622744  -0.266026   -0.032238   -0.0319176   0.184872 -0.032942   -0.538798   -0.512762    0.2896216   0.310144   -0.3123744  1.14933     0.428302    0.0274548  -0.0333536   0.0099226   0.003466  0.197636   -0.244508   -0.07076    -0.158314    0.1407428   0.216196 -0.18903144  0.182434    0.183046    0.062062    0.065016   -0.110765  0.3167152   0.601816                   \n",
       "4  -0.06294364  0.04848782  0.19312345 -0.15106409  0.25097664 -0.15885527  0.016742   -0.00850291 -0.32655918  0.45229091 -0.10182709  0.42265891 -0.06213509  0.12248727  0.28511545  0.23196391  0.08613548  0.05957142  0.13219085 -0.10375836 -0.37726293  0.19080518  0.43892991  0.15758655  0.46611364 -1.00546818 -0.78743891  0.20501109  0.36316636 -0.47207736  1.32699545  0.09297067 -0.35451873  0.24378455 -0.11491291 -0.33006155  0.31335745 -0.41154164  0.18194673 -0.04392361 -0.00290382  0.10673727 -0.36330127  0.17078073  0.35454782 -0.13467655 -0.21924942  0.00805085  0.28912036  0.50493727   \n",
       "\n",
       "        mv0       mv1       mv2       mv3       mv4       mv5       mv6  \\\n",
       "0  0.010663  0.068476  0.035724 -0.247272  0.321015  0.115003 -0.295833   \n",
       "1 -0.176451 -0.091157  0.121463 -0.186287  0.149182 -0.249149  0.067549   \n",
       "2 -0.346393 -0.254810  0.030358 -0.488488  0.111442 -0.255006  0.055063   \n",
       "3 -0.145426  0.068306  0.081692 -0.192932 -0.088910 -0.049942  0.072396   \n",
       "4 -0.062944  0.048488  0.193123 -0.151064  0.250977 -0.158855  0.016742   \n",
       "\n",
       "     ...         mv40      mv41      mv42      mv43      mv44      mv45  \\\n",
       "0    ...     0.045432  0.177341 -0.046567  0.330098  0.357791  0.054263   \n",
       "1    ...     0.084616 -0.125491 -0.301192 -0.107206  0.202832  0.013312   \n",
       "2    ...     0.036122 -0.147401 -0.647941  0.159528  0.308358  0.086666   \n",
       "3    ...     0.140743  0.216196 -0.189031  0.182434  0.183046  0.062062   \n",
       "4    ...    -0.002904  0.106737 -0.363301  0.170781  0.354548 -0.134677   \n",
       "\n",
       "       mv46      mv47      mv48      mv49  \n",
       "0 -0.344123 -0.384500  0.341954  0.229224  \n",
       "1  0.205058 -0.345934  0.464267  0.295030  \n",
       "2 -0.053178 -0.289379  0.255676  0.478414  \n",
       "3  0.065016 -0.110765  0.316715  0.601816  \n",
       "4 -0.219249  0.008051  0.289120  0.504937  \n",
       "\n",
       "[5 rows x 53 columns]"
      ]
     },
     "execution_count": 14,
     "metadata": {},
     "output_type": "execute_result"
    }
   ],
   "source": [
    "for i in tqdm(range(df.shape[0])):\n",
    "    a=df.loc[i,\"vec\"].split()    \n",
    "    #print(a)\n",
    "    for j in range(0,50):\n",
    "        col=\"mv\"+str(j)\n",
    "        df.loc[i,col]=float(a[j])\n",
    "df.head()\n",
    "    \n",
    "    "
   ]
  },
  {
   "cell_type": "code",
   "execution_count": 15,
   "metadata": {},
   "outputs": [],
   "source": [
    "df.drop([\"vec\"],axis=1,inplace=True)"
   ]
  },
  {
   "cell_type": "code",
   "execution_count": 17,
   "metadata": {},
   "outputs": [
    {
     "name": "stdout",
     "output_type": "stream",
     "text": [
      "<class 'pandas.core.frame.DataFrame'>\n",
      "RangeIndex: 24783 entries, 0 to 24782\n",
      "Data columns (total 52 columns):\n",
      "tweet    24783 non-null object\n",
      "class    24783 non-null int64\n",
      "mv0      24783 non-null float64\n",
      "mv1      24783 non-null float64\n",
      "mv2      24783 non-null float64\n",
      "mv3      24783 non-null float64\n",
      "mv4      24783 non-null float64\n",
      "mv5      24783 non-null float64\n",
      "mv6      24783 non-null float64\n",
      "mv7      24783 non-null float64\n",
      "mv8      24783 non-null float64\n",
      "mv9      24783 non-null float64\n",
      "mv10     24783 non-null float64\n",
      "mv11     24783 non-null float64\n",
      "mv12     24783 non-null float64\n",
      "mv13     24783 non-null float64\n",
      "mv14     24783 non-null float64\n",
      "mv15     24783 non-null float64\n",
      "mv16     24783 non-null float64\n",
      "mv17     24783 non-null float64\n",
      "mv18     24783 non-null float64\n",
      "mv19     24783 non-null float64\n",
      "mv20     24783 non-null float64\n",
      "mv21     24783 non-null float64\n",
      "mv22     24783 non-null float64\n",
      "mv23     24783 non-null float64\n",
      "mv24     24783 non-null float64\n",
      "mv25     24783 non-null float64\n",
      "mv26     24783 non-null float64\n",
      "mv27     24783 non-null float64\n",
      "mv28     24783 non-null float64\n",
      "mv29     24783 non-null float64\n",
      "mv30     24783 non-null float64\n",
      "mv31     24783 non-null float64\n",
      "mv32     24783 non-null float64\n",
      "mv33     24783 non-null float64\n",
      "mv34     24783 non-null float64\n",
      "mv35     24783 non-null float64\n",
      "mv36     24783 non-null float64\n",
      "mv37     24783 non-null float64\n",
      "mv38     24783 non-null float64\n",
      "mv39     24783 non-null float64\n",
      "mv40     24783 non-null float64\n",
      "mv41     24783 non-null float64\n",
      "mv42     24783 non-null float64\n",
      "mv43     24783 non-null float64\n",
      "mv44     24783 non-null float64\n",
      "mv45     24783 non-null float64\n",
      "mv46     24783 non-null float64\n",
      "mv47     24783 non-null float64\n",
      "mv48     24783 non-null float64\n",
      "mv49     24783 non-null float64\n",
      "dtypes: float64(50), int64(1), object(1)\n",
      "memory usage: 9.8+ MB\n"
     ]
    }
   ],
   "source": [
    "df.info()"
   ]
  },
  {
   "cell_type": "code",
   "execution_count": 20,
   "metadata": {},
   "outputs": [],
   "source": [
    "df.to_csv(r'C:\\Users\\Pravash Ranjan\\Downloads\\FinalDataset.csv')"
   ]
  },
  {
   "cell_type": "code",
   "execution_count": null,
   "metadata": {},
   "outputs": [],
   "source": []
  }
 ],
 "metadata": {
  "kernelspec": {
   "display_name": "Python 3",
   "language": "python",
   "name": "python3"
  },
  "language_info": {
   "codemirror_mode": {
    "name": "ipython",
    "version": 3
   },
   "file_extension": ".py",
   "mimetype": "text/x-python",
   "name": "python",
   "nbconvert_exporter": "python",
   "pygments_lexer": "ipython3",
   "version": "3.7.6"
  }
 },
 "nbformat": 4,
 "nbformat_minor": 2
}
