{
 "cells": [
  {
   "cell_type": "markdown",
   "metadata": {},
   "source": [
    "## Updating all packages"
   ]
  },
  {
   "cell_type": "code",
   "execution_count": null,
   "metadata": {},
   "outputs": [],
   "source": [
    "import pkg_resources\n",
    "from subprocess import call\n",
    "\n",
    "packages = [dist.project_name for dist in pkg_resources.working_set]\n",
    "call(\"pip install --upgrade \" + ' '.join(packages), shell=True)\n"
   ]
  },
  {
   "cell_type": "markdown",
   "metadata": {},
   "source": [
    "## Importing Libraries"
   ]
  },
  {
   "cell_type": "code",
   "execution_count": 1,
   "metadata": {},
   "outputs": [],
   "source": [
    "import numpy as np\n",
    "import pandas as pd\n",
    "import matplotlib.pyplot as plt\n",
    "import seaborn as sns\n",
    "from tqdm import tqdm_notebook as tqdm\n",
    "from spellchecker import SpellChecker\n",
    "import string  \n",
    "import re\n",
    "import nltk\n",
    "#nltk.download('punkt')\n",
    "#nltk.download('stopwords')"
   ]
  },
  {
   "cell_type": "markdown",
   "metadata": {},
   "source": [
    "## Preprocessing Tweets"
   ]
  },
  {
   "cell_type": "code",
   "execution_count": 2,
   "metadata": {},
   "outputs": [],
   "source": [
    "from nltk.corpus import stopwords\n",
    "from nltk.tokenize import word_tokenize\n",
    "def preprocess_tweet(text):\n",
    "\n",
    "    \n",
    "    \n",
    "    # convert text to lower-case\n",
    "    nopunc=text\n",
    "    nopunc = nopunc.lower()\n",
    "    #print(\"Lowered \",nopunc)\n",
    "    \n",
    "    # remove URLs\n",
    "    nopunc = re.sub('((www\\.[^\\s]+)|(https?://[^\\s]+)|(http?://[^\\s]+))', '', nopunc)\n",
    "    nopunc = re.sub(r'http\\S+', '', nopunc)\n",
    "    #print(\"URLs Removed -\",nopunc)\n",
    "    \n",
    "    # remove usernames\n",
    "    nopunc = re.sub('@[^\\s]+', '', nopunc)\n",
    "    #print(\"Usernames Removed -\",nopunc)\n",
    "    \n",
    "    # remove the # in #hashtag\n",
    "    nopunc = re.sub(r'#([^\\s]+)', r'\\1', nopunc)\n",
    "    #print(\"Hashtags Removed -\",nopunc)\n",
    "    \n",
    "    # Check characters to see if they are in punctuation\n",
    "    txt=nopunc\n",
    "    nopunc = [char for char in txt if char not in string.punctuation]\n",
    "    #print(\"No punc \",nopunc)\n",
    "    \n",
    "    # Join the characters again to form the string.\n",
    "    nopunc = ''.join(nopunc)\n",
    "    #print(\"Puntuation Removed -\",nopunc)\n",
    "    \n",
    "    # remove repeated characters\n",
    "    nopunc = word_tokenize(nopunc)\n",
    "    \n",
    "    # remove stopwords from final word list\n",
    "    ar= [word for word in nopunc if word not in stopwords.words('english')]\n",
    "    return ' '.join(ar)"
   ]
  },
  {
   "cell_type": "code",
   "execution_count": 10,
   "metadata": {},
   "outputs": [
    {
     "name": "stdout",
     "output_type": "stream",
     "text": [
      "Raw tweet - @john@pravash Prayers, For Nepalll!!! http://t.co/XYZ #Nepal #Earthquake\n",
      "URLs Removed - @john@pravash prayers, for nepalll!!!  #nepal #earthquake\n",
      "Usernames Removed -  prayers, for nepalll!!!  #nepal #earthquake\n",
      "Hashtags Removed -  prayers, for nepalll!!!  nepal earthquake\n",
      "Puntuation Removed -  prayers for nepalll  nepal earthquake\n",
      "Filtered tweet - prayers nepalll nepal earthquake\n"
     ]
    }
   ],
   "source": [
    "sub=\"@john@pravash Prayers, For Nepalll!!! http://t.co/XYZ #Nepal #Earthquake\"\n",
    "print(\"Raw tweet -\",sub)\n",
    "print(\"Filtered tweet -\",preprocess_tweet(sub))"
   ]
  },
  {
   "cell_type": "code",
   "execution_count": 11,
   "metadata": {},
   "outputs": [
    {
     "name": "stdout",
     "output_type": "stream",
     "text": [
      "['rt', 'woman', 'shouldnt', 'complain', 'cleaning', 'house', 'amp', 'man', 'always', 'take', 'trash']\n"
     ]
    }
   ],
   "source": [
    "sp=SpellChecker()\n"
   ]
  },
  {
   "cell_type": "markdown",
   "metadata": {},
   "source": [
    "## Loading GloVe Vectors(50d) and creating a word2vec Dictionary"
   ]
  },
  {
   "cell_type": "code",
   "execution_count": 3,
   "metadata": {},
   "outputs": [],
   "source": [
    "glove=pd.read_csv(\"glove.6B\\\\new.txt\",encoding=\"utf8\")\n",
    "embeddings={}\n",
    "for i,ser in glove.iterrows():\n",
    "    vectors=\"\"\n",
    "    c=0\n",
    "    for x in ser:\n",
    "        if(c>0):\n",
    "            vectors=vectors+str(x)+\",\"\n",
    "        c+=1\n",
    "    vectors=vectors[:-1]\n",
    "    embeddings[ser.Words]=vectors\n",
    "corpus=set(embeddings.keys())"
   ]
  },
  {
   "cell_type": "markdown",
   "metadata": {},
   "source": [
    "## Helper function to convert tweets into numpy array of 50d vectors\n",
    "### We will use this function to get X_train and X_test"
   ]
  },
  {
   "cell_type": "code",
   "execution_count": 5,
   "metadata": {},
   "outputs": [],
   "source": [
    "def get_vec_representation_of_tweets(df):\n",
    "    X=np.array([[]])\n",
    "    import re\n",
    "    for i,row in df.iterrows():\n",
    "        st=re.split(r'[;,.\\s]\\s*',row[\"tweet\"])\n",
    "        cnt,total=[0,0]\n",
    "        vector=np.zeros(50)\n",
    "        for word in st:\n",
    "            total=total+1\n",
    "            if len(word)>0 and word in corpus:\n",
    "                cnt=cnt+1\n",
    "                get_vector=np.array(list(map(np.float,embeddings[word].split(\",\"))))\n",
    "                vector=vector+get_vector\n",
    "        vector=vector/cnt\n",
    "        if X.shape[1]==0:\n",
    "            X=np.append(X,[vector],axis=1)\n",
    "        else:\n",
    "            X=np.append(X,[vector],axis=0)\n",
    "    return X"
   ]
  },
  {
   "cell_type": "markdown",
   "metadata": {},
   "source": [
    "## Loading Datasets and converting them to torch tensors"
   ]
  },
  {
   "cell_type": "code",
   "execution_count": 6,
   "metadata": {},
   "outputs": [],
   "source": [
    "df=pd.read_csv(r'filtered_tweet.csv',sep=',',names=[\"tweet\",\"class\"])"
   ]
  },
  {
   "cell_type": "markdown",
   "metadata": {},
   "source": [
    "## Further Preprocessing\n",
    "### Removing more StopWords and words less than length 3"
   ]
  },
  {
   "cell_type": "code",
   "execution_count": 7,
   "metadata": {},
   "outputs": [],
   "source": [
    "\n",
    "def further_preprocess(x):\n",
    "    x=x.split()\n",
    "    ls=[]\n",
    "    for wrd in x:\n",
    "        if(len(wrd)>2):\n",
    "            ls.append(wrd)\n",
    "    return ' '.join(ls)\n",
    "\n",
    "#print(further_preprocess(\"rt boy dats coldtyga dwn bad cuffin dat hoe 1st place\"))"
   ]
  },
  {
   "cell_type": "code",
   "execution_count": 8,
   "metadata": {},
   "outputs": [],
   "source": [
    "df[\"tweet\"]=df.tweet.apply(further_preprocess)"
   ]
  },
  {
   "cell_type": "code",
   "execution_count": null,
   "metadata": {},
   "outputs": [],
   "source": [
    "#df['class']=df[\"class\"].apply(lambda x: 1 if(x==1 or x==0) else 2 )\n",
    "#df['class']=df[\"class\"].apply(lambda x: 0 if(x==2) else 1)"
   ]
  },
  {
   "cell_type": "code",
   "execution_count": 9,
   "metadata": {},
   "outputs": [
    {
     "data": {
      "text/plain": [
       "1    19190.0\n",
       "2     4163.0\n",
       "0     1430.0\n",
       "Name: class, dtype: float64"
      ]
     },
     "execution_count": 9,
     "metadata": {},
     "output_type": "execute_result"
    }
   ],
   "source": [
    "df[\"class\"].value_counts(normalize=True)*len(df)"
   ]
  },
  {
   "cell_type": "code",
   "execution_count": 9,
   "metadata": {},
   "outputs": [
    {
     "name": "stderr",
     "output_type": "stream",
     "text": [
      "C:\\Users\\Pravash Ranjan\\anaconda3\\lib\\site-packages\\ipykernel_launcher.py:1: FutureWarning: Passing a negative integer is deprecated in version 1.0 and will not be supported in future version. Instead, use None to not limit the column width.\n",
      "  \"\"\"Entry point for launching an IPython kernel.\n"
     ]
    },
    {
     "data": {
      "text/html": [
       "<div>\n",
       "<style scoped>\n",
       "    .dataframe tbody tr th:only-of-type {\n",
       "        vertical-align: middle;\n",
       "    }\n",
       "\n",
       "    .dataframe tbody tr th {\n",
       "        vertical-align: top;\n",
       "    }\n",
       "\n",
       "    .dataframe thead th {\n",
       "        text-align: right;\n",
       "    }\n",
       "</style>\n",
       "<table border=\"1\" class=\"dataframe\">\n",
       "  <thead>\n",
       "    <tr style=\"text-align: right;\">\n",
       "      <th></th>\n",
       "      <th>tweet</th>\n",
       "      <th>class</th>\n",
       "    </tr>\n",
       "  </thead>\n",
       "  <tbody>\n",
       "    <tr>\n",
       "      <th>1</th>\n",
       "      <td>boy dats coldtyga dwn bad cuffin dat hoe 1st place</td>\n",
       "      <td>1</td>\n",
       "    </tr>\n",
       "    <tr>\n",
       "      <th>2</th>\n",
       "      <td>dawg ever fuck bitch start cry confused shit</td>\n",
       "      <td>1</td>\n",
       "    </tr>\n",
       "    <tr>\n",
       "      <th>3</th>\n",
       "      <td>look like tranny</td>\n",
       "      <td>1</td>\n",
       "    </tr>\n",
       "    <tr>\n",
       "      <th>4</th>\n",
       "      <td>shit hear might true might faker bitch told 57361</td>\n",
       "      <td>1</td>\n",
       "    </tr>\n",
       "    <tr>\n",
       "      <th>5</th>\n",
       "      <td>shit blows meclaim faithful somebody still fucking hoes 128514128514128514</td>\n",
       "      <td>1</td>\n",
       "    </tr>\n",
       "  </tbody>\n",
       "</table>\n",
       "</div>"
      ],
      "text/plain": [
       "                                                                        tweet  \\\n",
       "1  boy dats coldtyga dwn bad cuffin dat hoe 1st place                           \n",
       "2  dawg ever fuck bitch start cry confused shit                                 \n",
       "3  look like tranny                                                             \n",
       "4  shit hear might true might faker bitch told 57361                            \n",
       "5  shit blows meclaim faithful somebody still fucking hoes 128514128514128514   \n",
       "\n",
       "   class  \n",
       "1  1      \n",
       "2  1      \n",
       "3  1      \n",
       "4  1      \n",
       "5  1      "
      ]
     },
     "execution_count": 9,
     "metadata": {},
     "output_type": "execute_result"
    }
   ],
   "source": [
    "pd.set_option('display.max_colwidth', -1)\n",
    "df[df[\"class\"]==1].head(5)"
   ]
  },
  {
   "cell_type": "code",
   "execution_count": 10,
   "metadata": {},
   "outputs": [
    {
     "name": "stdout",
     "output_type": "stream",
     "text": [
      "20620 4163\n"
     ]
    }
   ],
   "source": [
    "hate=df[(df[\"class\"]==1) | (df[\"class\"]==0)]\n",
    "non_hate=df[df[\"class\"]==2]\n",
    "print(len(hate),len(non_hate))"
   ]
  },
  {
   "cell_type": "code",
   "execution_count": 11,
   "metadata": {},
   "outputs": [
    {
     "data": {
      "text/html": [
       "<div>\n",
       "<style scoped>\n",
       "    .dataframe tbody tr th:only-of-type {\n",
       "        vertical-align: middle;\n",
       "    }\n",
       "\n",
       "    .dataframe tbody tr th {\n",
       "        vertical-align: top;\n",
       "    }\n",
       "\n",
       "    .dataframe thead th {\n",
       "        text-align: right;\n",
       "    }\n",
       "</style>\n",
       "<table border=\"1\" class=\"dataframe\">\n",
       "  <thead>\n",
       "    <tr style=\"text-align: right;\">\n",
       "      <th></th>\n",
       "      <th>tweet</th>\n",
       "      <th>class</th>\n",
       "    </tr>\n",
       "  </thead>\n",
       "  <tbody>\n",
       "    <tr>\n",
       "      <th>0</th>\n",
       "      <td>woman shouldnt complain cleaning house amp man always take trash</td>\n",
       "      <td>2</td>\n",
       "    </tr>\n",
       "    <tr>\n",
       "      <th>40</th>\n",
       "      <td>momma said pussy cats inside doghouse</td>\n",
       "      <td>2</td>\n",
       "    </tr>\n",
       "    <tr>\n",
       "      <th>63</th>\n",
       "      <td>simplyaddictedtoguys woof woof hot scally lad</td>\n",
       "      <td>2</td>\n",
       "    </tr>\n",
       "    <tr>\n",
       "      <th>66</th>\n",
       "      <td>woof woof hot soles</td>\n",
       "      <td>2</td>\n",
       "    </tr>\n",
       "    <tr>\n",
       "      <th>67</th>\n",
       "      <td>lemmie eat oreo amp dishes one oreo lol</td>\n",
       "      <td>2</td>\n",
       "    </tr>\n",
       "    <tr>\n",
       "      <th>70</th>\n",
       "      <td>eggplant emoji doey say looked like scream lmao</td>\n",
       "      <td>2</td>\n",
       "    </tr>\n",
       "    <tr>\n",
       "      <th>75</th>\n",
       "      <td>baby monkey bathtime awwwwe soooo adorable</td>\n",
       "      <td>2</td>\n",
       "    </tr>\n",
       "    <tr>\n",
       "      <th>115</th>\n",
       "      <td>baseball season win yankees love started</td>\n",
       "      <td>2</td>\n",
       "    </tr>\n",
       "    <tr>\n",
       "      <th>118</th>\n",
       "      <td>early bird night owl wise worms</td>\n",
       "      <td>2</td>\n",
       "    </tr>\n",
       "    <tr>\n",
       "      <th>119</th>\n",
       "      <td>overdosing heavy drugs doesnt sound bad tonight pussy shit every day</td>\n",
       "      <td>2</td>\n",
       "    </tr>\n",
       "  </tbody>\n",
       "</table>\n",
       "</div>"
      ],
      "text/plain": [
       "                                                                    tweet  \\\n",
       "0    woman shouldnt complain cleaning house amp man always take trash       \n",
       "40   momma said pussy cats inside doghouse                                  \n",
       "63   simplyaddictedtoguys woof woof hot scally lad                          \n",
       "66   woof woof hot soles                                                    \n",
       "67   lemmie eat oreo amp dishes one oreo lol                                \n",
       "70   eggplant emoji doey say looked like scream lmao                        \n",
       "75   baby monkey bathtime awwwwe soooo adorable                             \n",
       "115  baseball season win yankees love started                               \n",
       "118  early bird night owl wise worms                                        \n",
       "119  overdosing heavy drugs doesnt sound bad tonight pussy shit every day   \n",
       "\n",
       "     class  \n",
       "0    2      \n",
       "40   2      \n",
       "63   2      \n",
       "66   2      \n",
       "67   2      \n",
       "70   2      \n",
       "75   2      \n",
       "115  2      \n",
       "118  2      \n",
       "119  2      "
      ]
     },
     "execution_count": 11,
     "metadata": {},
     "output_type": "execute_result"
    }
   ],
   "source": [
    "non_hate.head(10)"
   ]
  },
  {
   "cell_type": "code",
   "execution_count": 11,
   "metadata": {},
   "outputs": [
    {
     "name": "stderr",
     "output_type": "stream",
     "text": [
      "C:\\Users\\Pravash Ranjan\\anaconda3\\lib\\site-packages\\ipykernel_launcher.py:3: TqdmDeprecationWarning: This function will be removed in tqdm==5.0.0\n",
      "Please use `tqdm.notebook.tqdm` instead of `tqdm.tqdm_notebook`\n",
      "  This is separate from the ipykernel package so we can avoid doing imports until\n"
     ]
    },
    {
     "data": {
      "application/vnd.jupyter.widget-view+json": {
       "model_id": "18fef87664b547f7901fc16be66a8cbb",
       "version_major": 2,
       "version_minor": 0
      },
      "text/plain": [
       "HBox(children=(FloatProgress(value=1.0, bar_style='info', max=1.0), HTML(value='')))"
      ]
     },
     "metadata": {},
     "output_type": "display_data"
    },
    {
     "name": "stdout",
     "output_type": "stream",
     "text": [
      "\n"
     ]
    }
   ],
   "source": [
    "hate_speech_freq={}\n",
    "hate_speech_set=set()\n",
    "for i,row in tqdm(hate.iterrows()):\n",
    "    tokens=row[\"tweet\"].split()\n",
    "    #print(i,tokens)\n",
    "    for tkn in tokens:\n",
    "        if(tkn not in hate_speech_set):\n",
    "            hate_speech_freq[tkn]=1\n",
    "            hate_speech_set.add(tkn)\n",
    "        else:\n",
    "            cnt=hate_speech_freq[tkn]+1\n",
    "            hate_speech_freq[tkn]=cnt\n",
    "    "
   ]
  },
  {
   "cell_type": "code",
   "execution_count": 12,
   "metadata": {},
   "outputs": [
    {
     "name": "stdout",
     "output_type": "stream",
     "text": [
      "<class 'list'>\n",
      "('bitch', 8112)\n",
      "('bitches', 3045)\n",
      "('like', 2459)\n",
      "('hoes', 2318)\n",
      "('pussy', 2066)\n",
      "('hoe', 1836)\n",
      "('dont', 1580)\n",
      "('ass', 1560)\n",
      "('got', 1467)\n",
      "('8220', 1452)\n",
      "('fuck', 1406)\n",
      "('get', 1284)\n",
      "('shit', 1245)\n",
      "('nigga', 1191)\n",
      "('aint', 1119)\n",
      "('lol', 893)\n",
      "('niggas', 788)\n",
      "('know', 716)\n",
      "('amp', 673)\n",
      "('fucking', 626)\n",
      "('yall', 616)\n",
      "('love', 611)\n",
      "('cant', 587)\n",
      "('one', 567)\n",
      "('thats', 533)\n",
      "('bad', 532)\n",
      "('want', 498)\n"
     ]
    }
   ],
   "source": [
    "sorted_hate_dict = sorted(hate_speech_freq.items(), key=lambda x: x[1],reverse=True)\n",
    "print(type(sorted_hate_dict))\n",
    "for key in sorted_hate_dict:\n",
    "    print(key)\n",
    "    if(key[1]<500):\n",
    "        break\n"
   ]
  },
  {
   "cell_type": "code",
   "execution_count": null,
   "metadata": {},
   "outputs": [],
   "source": [
    "!pip install wordcloud"
   ]
  },
  {
   "cell_type": "code",
   "execution_count": null,
   "metadata": {},
   "outputs": [],
   "source": [
    "hate_speech_freq[\"man\"]"
   ]
  },
  {
   "cell_type": "code",
   "execution_count": null,
   "metadata": {},
   "outputs": [],
   "source": [
    "from wordcloud import WordCloud\n",
    "import matplotlib.pyplot as plt \n",
    "import pandas as pd \n",
    "  \n",
    "# Reads 'Youtube04-Eminem.csv' file  \n",
    "#df = pd.read_csv(r\"Youtube04-Eminem.csv\", encoding =\"latin-1\") \n",
    "  \n",
    "comment_words = '' \n",
    "\n",
    "  \n",
    "# iterate through the csv file \n",
    "for val in tqdm(hate.tweet): \n",
    "      \n",
    "    # typecaste each val to string \n",
    "    val = str(val) \n",
    "  \n",
    "    # split the value \n",
    "    tokens = val.split() \n",
    "      \n",
    "    # Converts each token into lowercase \n",
    "    for i in range(len(tokens)): \n",
    "        tokens[i] = tokens[i].lower() \n",
    "      \n",
    "    comment_words += \" \".join(tokens)+\" \"\n",
    "    #print(comment_words)\n",
    "    #break\n",
    "  \n",
    "wordcloud = WordCloud(width = 800, height = 800, \n",
    "                background_color ='white', \n",
    "                stopwords = StopWords, \n",
    "                min_font_size = 10).generate(comment_words) \n",
    "\n",
    "# plot the WordCloud image                        \n",
    "plt.figure(figsize = (8, 8), facecolor = None) \n",
    "plt.imshow(wordcloud) \n",
    "plt.axis(\"off\") \n",
    "plt.tight_layout(pad = 0) \n",
    "  \n",
    "plt.show() \n"
   ]
  },
  {
   "cell_type": "markdown",
   "metadata": {},
   "source": [
    "## Preparing Test and Train Dataset"
   ]
  },
  {
   "cell_type": "code",
   "execution_count": 13,
   "metadata": {},
   "outputs": [
    {
     "name": "stdout",
     "output_type": "stream",
     "text": [
      "20620 4163\n"
     ]
    }
   ],
   "source": [
    "print(len(hate),len(non_hate))\n",
    "train=hate[0:6000]\n",
    "train_final=pd.concat([train,non_hate[0:3000]])\n",
    "test=hate[6001:10001]\n",
    "test_final=pd.concat([test,non_hate[3000:]])"
   ]
  },
  {
   "cell_type": "code",
   "execution_count": 14,
   "metadata": {},
   "outputs": [
    {
     "name": "stdout",
     "output_type": "stream",
     "text": [
      "1    5378\n",
      "2    3000\n",
      "0     622\n",
      "Name: class, dtype: int64\n",
      "1    3764\n",
      "2    1163\n",
      "0     236\n",
      "Name: class, dtype: int64\n"
     ]
    }
   ],
   "source": [
    "print(train_final[\"class\"].value_counts())\n",
    "print(test_final[\"class\"].value_counts())"
   ]
  },
  {
   "cell_type": "code",
   "execution_count": 15,
   "metadata": {},
   "outputs": [
    {
     "name": "stdout",
     "output_type": "stream",
     "text": [
      "1    6000\n",
      "0    3000\n",
      "Name: class, dtype: int64\n",
      "1    4000\n",
      "0    1163\n",
      "Name: class, dtype: int64\n"
     ]
    }
   ],
   "source": [
    "train_final[\"class\"].replace(0,1,inplace=True)\n",
    "train_final[\"class\"].replace(2,0,inplace=True)\n",
    "test_final[\"class\"].replace(0,1,inplace=True)\n",
    "test_final[\"class\"].replace(2,0,inplace=True)\n",
    "print(train_final[\"class\"].value_counts())\n",
    "print(test_final[\"class\"].value_counts())"
   ]
  },
  {
   "cell_type": "code",
   "execution_count": null,
   "metadata": {},
   "outputs": [],
   "source": [
    "train_final.head(10)"
   ]
  },
  {
   "cell_type": "code",
   "execution_count": 16,
   "metadata": {},
   "outputs": [
    {
     "data": {
      "text/html": [
       "<div>\n",
       "<style scoped>\n",
       "    .dataframe tbody tr th:only-of-type {\n",
       "        vertical-align: middle;\n",
       "    }\n",
       "\n",
       "    .dataframe tbody tr th {\n",
       "        vertical-align: top;\n",
       "    }\n",
       "\n",
       "    .dataframe thead th {\n",
       "        text-align: right;\n",
       "    }\n",
       "</style>\n",
       "<table border=\"1\" class=\"dataframe\">\n",
       "  <thead>\n",
       "    <tr style=\"text-align: right;\">\n",
       "      <th></th>\n",
       "      <th>tweet</th>\n",
       "      <th>class</th>\n",
       "    </tr>\n",
       "  </thead>\n",
       "  <tbody>\n",
       "    <tr>\n",
       "      <th>904</th>\n",
       "      <td>pornandroidiphoneipadsexxxx xxx homemade pussy...</td>\n",
       "      <td>1</td>\n",
       "    </tr>\n",
       "    <tr>\n",
       "      <th>675</th>\n",
       "      <td>bitchslapthursdays 2nite pure passion doors op...</td>\n",
       "      <td>1</td>\n",
       "    </tr>\n",
       "    <tr>\n",
       "      <th>6048</th>\n",
       "      <td>stay safe charlie</td>\n",
       "      <td>0</td>\n",
       "    </tr>\n",
       "    <tr>\n",
       "      <th>4498</th>\n",
       "      <td>bitch</td>\n",
       "      <td>1</td>\n",
       "    </tr>\n",
       "    <tr>\n",
       "      <th>16096</th>\n",
       "      <td>buy tickets transformers lock aluminum trash t...</td>\n",
       "      <td>0</td>\n",
       "    </tr>\n",
       "    <tr>\n",
       "      <th>3355</th>\n",
       "      <td>direct flight price done layovers flying bitch...</td>\n",
       "      <td>1</td>\n",
       "    </tr>\n",
       "    <tr>\n",
       "      <th>4504</th>\n",
       "      <td>man wilson 2nd black win chip talkn trash talk...</td>\n",
       "      <td>0</td>\n",
       "    </tr>\n",
       "    <tr>\n",
       "      <th>2190</th>\n",
       "      <td>klains real sole job dampen mushrooming bad po...</td>\n",
       "      <td>0</td>\n",
       "    </tr>\n",
       "    <tr>\n",
       "      <th>3915</th>\n",
       "      <td>get real hair cut faggot served country marine...</td>\n",
       "      <td>1</td>\n",
       "    </tr>\n",
       "    <tr>\n",
       "      <th>827</th>\n",
       "      <td>boom bitches</td>\n",
       "      <td>1</td>\n",
       "    </tr>\n",
       "  </tbody>\n",
       "</table>\n",
       "</div>"
      ],
      "text/plain": [
       "                                                   tweet  class\n",
       "904    pornandroidiphoneipadsexxxx xxx homemade pussy...      1\n",
       "675    bitchslapthursdays 2nite pure passion doors op...      1\n",
       "6048                                   stay safe charlie      0\n",
       "4498                                               bitch      1\n",
       "16096  buy tickets transformers lock aluminum trash t...      0\n",
       "3355   direct flight price done layovers flying bitch...      1\n",
       "4504   man wilson 2nd black win chip talkn trash talk...      0\n",
       "2190   klains real sole job dampen mushrooming bad po...      0\n",
       "3915   get real hair cut faggot served country marine...      1\n",
       "827                                         boom bitches      1"
      ]
     },
     "execution_count": 16,
     "metadata": {},
     "output_type": "execute_result"
    }
   ],
   "source": [
    "from sklearn.utils import shuffle\n",
    "train_final = shuffle(train_final)\n",
    "train_final.head(10)"
   ]
  },
  {
   "cell_type": "code",
   "execution_count": 17,
   "metadata": {},
   "outputs": [
    {
     "name": "stderr",
     "output_type": "stream",
     "text": [
      "C:\\Users\\Pravash Ranjan\\anaconda3\\lib\\site-packages\\ipykernel_launcher.py:14: RuntimeWarning: invalid value encountered in true_divide\n",
      "  \n"
     ]
    }
   ],
   "source": [
    "X_train=get_vec_representation_of_tweets(train_final)\n",
    "y_train=train_final[\"class\"].values\n",
    "y_train=y_train.astype(np.float32)\n",
    "X_test=get_vec_representation_of_tweets(test_final)\n",
    "y_test=test_final[\"class\"].values\n",
    "y_test=y_test.astype(np.float32)"
   ]
  },
  {
   "cell_type": "code",
   "execution_count": null,
   "metadata": {},
   "outputs": [],
   "source": [
    "from sklearn.preprocessing import MinMaxScaler\n",
    "scaler = MinMaxScaler()\n",
    "scaler.fit(X_train)\n",
    "X_train=scaler.transform(X_train)\n",
    "X_test=scaler.transform(X_test)"
   ]
  },
  {
   "cell_type": "code",
   "execution_count": 18,
   "metadata": {},
   "outputs": [],
   "source": [
    "X_train[X_train!=X_train]=0.0\n",
    "X_test[X_test!=X_test]=0.0"
   ]
  },
  {
   "cell_type": "code",
   "execution_count": null,
   "metadata": {},
   "outputs": [],
   "source": []
  },
  {
   "cell_type": "code",
   "execution_count": 19,
   "metadata": {},
   "outputs": [],
   "source": [
    "import torch\n",
    "X_train_tensor=torch.from_numpy(X_train)\n",
    "y_train_tensor=torch.from_numpy(y_train)\n",
    "\n",
    "X_test_tensor=torch.from_numpy(X_test)\n",
    "y_test_tensor=torch.from_numpy(y_test)\n",
    "\n",
    "y_train_tensor=torch.reshape(y_train_tensor,(y_train_tensor.shape[0],1))\n",
    "y_test_tensor=torch.reshape(y_test_tensor,(y_test_tensor.shape[0],1))"
   ]
  },
  {
   "cell_type": "markdown",
   "metadata": {},
   "source": [
    "## Deel Learning Model\n",
    "## Neural Network"
   ]
  },
  {
   "cell_type": "code",
   "execution_count": 67,
   "metadata": {},
   "outputs": [],
   "source": [
    "import torch.nn as nn\n",
    "class FirstNetwork_v2(nn.Module):\n",
    "    \n",
    "    def __init__(self):\n",
    "        super().__init__()\n",
    "        torch.manual_seed(0)\n",
    "        self.lin1 = nn.Linear(50, 1000)        \n",
    "        self.lin2 = nn.Linear(1000, 100)\n",
    "        self.lin3 = nn.Linear(100, 1)\n",
    "        \n",
    "\n",
    "    def forward(self, X):\n",
    "        a1=self.lin1(X)\n",
    "        h1=a1.sigmoid()\n",
    "        a2=self.lin2(h1)\n",
    "        h2=a2.sigmoid()\n",
    "        a3=self.lin3(h2)\n",
    "        h3=a3.sigmoid()\n",
    "        \n",
    "        return h3\n",
    "def fit_v2(x, y, model, opt, loss_fn, epochs = 1,batch_size=30):\n",
    "    ls=[]\n",
    "    #net = net.float()\n",
    "    train=[]\n",
    "    test=[]\n",
    "    no_of_batches=9000//batch_size\n",
    "    for epoch in tqdm(range(epochs)):\n",
    "        for i in range(no_of_batches):\n",
    "            X_batch=x[i*batch_size:i*batch_size+batch_size,:]\n",
    "            y_batch=y[i*batch_size:i*batch_size+batch_size,:]\n",
    "            md=fn(X_batch.float())\n",
    "            #print(md)\n",
    "            #print(y)\n",
    "\n",
    "            loss = loss_fn(md, y_batch)\n",
    "\n",
    "            #print(i,loss)\n",
    "            #ls.append(loss.item())\n",
    "            loss.backward()\n",
    "            opt.step()\n",
    "            opt.zero_grad()\n",
    "        ls.append(loss.item())        \n",
    "        train.append(((fn(X_train_tensor.float())>0.5).type(torch.int)==y_train_tensor).sum().item()/y_train.shape[0]*100)\n",
    "        test.append(((fn(X_test_tensor.float())>0.5).type(torch.int)==y_test_tensor).sum().item()/y_test.shape[0]*100)\n",
    "        opt.zero_grad()\n",
    "    print(\"Network: [50,100,100,1] , Loss fn: MSE , Optimizer: Adam , LR: 0.001 , Epochs: 500 , Batch_size= 9000\")\n",
    "    plt.plot(train,color=\"blue\",label='Training Accuracy')\n",
    "    plt.plot(test,color=\"red\",label='Testing Accuracy')\n",
    "    plt.xlabel(\"epochs\")\n",
    "    plt.ylabel(\"Accuracy\")\n",
    "    plt.legend(loc=\"best\")\n",
    "    plt.show()    \n",
    "    return ls"
   ]
  },
  {
   "cell_type": "code",
   "execution_count": 68,
   "metadata": {},
   "outputs": [
    {
     "name": "stdout",
     "output_type": "stream",
     "text": [
      "torch.Size([9000, 50]) torch.Size([9000, 1])\n"
     ]
    },
    {
     "name": "stderr",
     "output_type": "stream",
     "text": [
      "C:\\Users\\Pravash Ranjan\\anaconda3\\lib\\site-packages\\ipykernel_launcher.py:27: TqdmDeprecationWarning: This function will be removed in tqdm==5.0.0\n",
      "Please use `tqdm.notebook.tqdm` instead of `tqdm.tqdm_notebook`\n"
     ]
    },
    {
     "data": {
      "application/vnd.jupyter.widget-view+json": {
       "model_id": "fde117efc95743dd9b69a422b9725ec4",
       "version_major": 2,
       "version_minor": 0
      },
      "text/plain": [
       "HBox(children=(FloatProgress(value=0.0, max=500.0), HTML(value='')))"
      ]
     },
     "metadata": {},
     "output_type": "display_data"
    },
    {
     "name": "stdout",
     "output_type": "stream",
     "text": [
      "\n",
      "Network: [50,100,100,1] , Loss fn: MSE , Optimizer: Adam , LR: 0.001 , Epochs: 500 , Batch_size= 9000\n"
     ]
    },
    {
     "data": {
      "image/png": "[encoded data removed]",
      "text/plain": [
       "<Figure size 432x288 with 1 Axes>"
      ]
     },
     "metadata": {
      "needs_background": "light"
     },
     "output_type": "display_data"
    },
    {
     "name": "stdout",
     "output_type": "stream",
     "text": [
      "Network: [50,100,100,1] , Loss fn: MSE , Optimizer: Adam , LR: 0.001 , Epochs: 500 , Batch_size= 9000\n"
     ]
    },
    {
     "data": {
      "image/png": "[encoded data removed]",
      "text/plain": [
       "<Figure size 432x288 with 1 Axes>"
      ]
     },
     "metadata": {
      "needs_background": "light"
     },
     "output_type": "display_data"
    },
    {
     "data": {
      "text/plain": [
       "<Figure size 1080x1080 with 0 Axes>"
      ]
     },
     "metadata": {},
     "output_type": "display_data"
    }
   ],
   "source": [
    "import torch.nn.functional as F\n",
    "from torch import optim\n",
    "print(X_train_tensor.shape,y_train_tensor.shape)\n",
    "fn = FirstNetwork_v2()\n",
    "loss_fn = [nn.BCELoss(),F.mse_loss]\n",
    "opt = optim.Adam(fn.parameters(), lr=.001)\n",
    "ls=fit_v2(X_train_tensor, y_train_tensor, fn, opt, loss_fn[1],epochs=500,batch_size=9000)\n",
    "print(\"Network: [50,100,100,1] , Loss fn: MSE , Optimizer: Adam , LR: 0.001 , Epochs: 500 , Batch_size= 9000\")\n",
    "plt.plot(ls)\n",
    "plt.xlabel(\"epochs\")\n",
    "plt.ylabel(\"Loss\")\n",
    "plt.figure(figsize=(15,15))\n",
    "plt.show()"
   ]
  },
  {
   "cell_type": "code",
   "execution_count": 69,
   "metadata": {},
   "outputs": [
    {
     "data": {
      "text/plain": [
       "84.86666666666667"
      ]
     },
     "execution_count": 69,
     "metadata": {},
     "output_type": "execute_result"
    }
   ],
   "source": [
    "#Train Accuracy\n",
    "((fn(X_train_tensor.float())>0.5).type(torch.int)==y_train_tensor).sum().item()/y_train.shape[0]*100"
   ]
  },
  {
   "cell_type": "code",
   "execution_count": 70,
   "metadata": {},
   "outputs": [
    {
     "data": {
      "text/plain": [
       "87.77842339724967"
      ]
     },
     "execution_count": 70,
     "metadata": {},
     "output_type": "execute_result"
    }
   ],
   "source": [
    "#Test Accuracy\n",
    "((fn(X_test_tensor.float())>0.5).type(torch.int)==y_test_tensor).sum().item()/y_test.shape[0]*100"
   ]
  },
  {
   "cell_type": "markdown",
   "metadata": {},
   "source": [
    "## Testing Model with user inputs"
   ]
  },
  {
   "cell_type": "code",
   "execution_count": 29,
   "metadata": {},
   "outputs": [],
   "source": [
    "import re\n",
    "def get_vec_for_senten(s):\n",
    "    st=re.split(r'[;,.\\s]\\s*',s)\n",
    "    cnt,total=[0,0]\n",
    "    vector=np.zeros(50)\n",
    "    for word in st:\n",
    "        total=total+1\n",
    "        if (len(word)>2) and (word in corpus):\n",
    "            cnt=cnt+1\n",
    "            get_vector=np.array(list(map(np.float,embeddings[word].split(\",\"))))\n",
    "            vector=vector+get_vector\n",
    "    vector=vector/cnt\n",
    "    return vector"
   ]
  },
  {
   "cell_type": "code",
   "execution_count": 57,
   "metadata": {},
   "outputs": [
    {
     "name": "stdout",
     "output_type": "stream",
     "text": [
      "\"you are my inspiration sir\" -  Clean\n",
      "\"die bitch, die\" -  Hate\n",
      "\"you are so smart lol\" -  Hate\n",
      "\"all jews are swine\" -  Clean\n",
      "\"you are a friendly person\" -  Clean\n",
      "\"shut up nigger\" -  Hate\n",
      "\"black people deserve to burn in hell\" -  Hate\n",
      "\"what are you looking at , dumb fuck !\" -  Hate\n",
      "\"good people are found everywhere\" -  Clean\n"
     ]
    }
   ],
   "source": [
    "cat=[\"Clean\",\"Hate\"]\n",
    "sentence=[\"you are my inspiration sir\",\"die bitch, die\",\"you are so smart lol\",\"all jews are swine\",\"you are a friendly person\",\"shut up nigger\",\"black people deserve to burn in hell\"\n",
    "         ,\"what are you looking at , dumb fuck !\",\"good people are found everywhere\"]\n",
    "for sen in sentence:\n",
    "    vec=get_vec_for_senten(sen)\n",
    "    print(\"\\\"\"+sen+\"\\\" - \",cat[int(fn(torch.tensor(vec).float()).item()>0.5)])"
   ]
  },
  {
   "cell_type": "code",
   "execution_count": null,
   "metadata": {},
   "outputs": [],
   "source": [
    "pd.set_option('display.max_colwidth', -1)\n",
    "test_final[test_final[\"class\"]==0].head(0)"
   ]
  },
  {
   "cell_type": "code",
   "execution_count": null,
   "metadata": {},
   "outputs": [],
   "source": []
  }
 ],
 "metadata": {
  "kernelspec": {
   "display_name": "Python 3",
   "language": "python",
   "name": "python3"
  },
  "language_info": {
   "codemirror_mode": {
    "name": "ipython",
    "version": 3
   },
   "file_extension": ".py",
   "mimetype": "text/x-python",
   "name": "python",
   "nbconvert_exporter": "python",
   "pygments_lexer": "ipython3",
   "version": "3.8.5"
  }
 },
 "nbformat": 4,
 "nbformat_minor": 4
}
