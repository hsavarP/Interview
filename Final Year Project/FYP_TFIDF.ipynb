{
 "cells": [
  {
   "cell_type": "code",
   "execution_count": 1,
   "metadata": {},
   "outputs": [],
   "source": [
    "import numpy as np\n",
    "import pandas as pd\n",
    "import matplotlib.pyplot as plt\n",
    "import seaborn as sns\n",
    "from tqdm import tqdm_notebook as tqdm\n",
    "from spellchecker import SpellChecker\n",
    "import string  \n",
    "import re\n",
    "import nltk"
   ]
  },
  {
   "cell_type": "code",
   "execution_count": 2,
   "metadata": {},
   "outputs": [],
   "source": [
    "df=pd.read_csv(r'filtered_tweet.csv',sep=',',names=[\"tweet\",\"class\"])"
   ]
  },
  {
   "cell_type": "code",
   "execution_count": null,
   "metadata": {},
   "outputs": [],
   "source": [
    "pd.set_option('display.max_colwidth', -1)\n",
    "df.tweet[:10]"
   ]
  },
  {
   "cell_type": "code",
   "execution_count": 3,
   "metadata": {},
   "outputs": [
    {
     "name": "stderr",
     "output_type": "stream",
     "text": [
      "[nltk_data] Downloading package wordnet to C:\\Users\\Pravash\n",
      "[nltk_data]     Ranjan\\AppData\\Roaming\\nltk_data...\n",
      "[nltk_data]   Package wordnet is already up-to-date!\n",
      "[nltk_data] Downloading package words to C:\\Users\\Pravash\n",
      "[nltk_data]     Ranjan\\AppData\\Roaming\\nltk_data...\n",
      "[nltk_data]   Package words is already up-to-date!\n"
     ]
    },
    {
     "data": {
      "text/plain": [
       "'womaan shouldnt complain cleanng house amp man always takee trsh'"
      ]
     },
     "execution_count": 3,
     "metadata": {},
     "output_type": "execute_result"
    }
   ],
   "source": [
    "import nltk\n",
    "nltk.download('wordnet')\n",
    "nltk.download('words')\n",
    "from nltk.corpus import words\n",
    "word_list = set(words.words())\n",
    "def preprocess_text(s):\n",
    "    #remove numbers from texts\n",
    "    remove_num=''.join([i for i in s if not i.isdigit()])\n",
    "    remove_num=remove_num.strip()\n",
    "        \n",
    "    #Tokenize the senetence\n",
    "    tokenizer=nltk.tokenize.WhitespaceTokenizer()\n",
    "    tokens=tokenizer.tokenize(remove_num)\n",
    "    \n",
    "    #remove all 2 length words\n",
    "    pre1=[i for i in tokens if  len(i)>2]\n",
    "    \n",
    "    #handling spell correction\n",
    "    \n",
    "    #running too slow\n",
    "    '''\n",
    "    spell=SpellChecker()\n",
    "    pre2=[]\n",
    "    for i in pre1:\n",
    "        if i[-2:]!=\"nt\" and not i in word_list:\n",
    "            pre2.append(spell.correction(i))\n",
    "        else:\n",
    "            pre2.append(i)\n",
    "    '''\n",
    "    \n",
    "    #Lemmatization\n",
    "    lemma=nltk.stem.WordNetLemmatizer()\n",
    "    final_string=' '.join([lemma.lemmatize(i) for i in pre1])\n",
    "    \n",
    "    '''\n",
    "    print(s)\n",
    "    print(remove_num)\n",
    "    print(tokens)\n",
    "    print(pre1)\n",
    "    print(pre2)\n",
    "    print(final_string)\n",
    "    '''\n",
    "    \n",
    "    return final_string\n",
    "preprocess_text(\"rt womaan shouldnt complain cleanng house amp man always takee trsh \")"
   ]
  },
  {
   "cell_type": "code",
   "execution_count": 4,
   "metadata": {},
   "outputs": [],
   "source": [
    "df[\"c_tweet\"]=\"\""
   ]
  },
  {
   "cell_type": "code",
   "execution_count": 5,
   "metadata": {},
   "outputs": [
    {
     "name": "stderr",
     "output_type": "stream",
     "text": [
      "C:\\Users\\Pravash Ranjan\\anaconda3\\lib\\site-packages\\ipykernel_launcher.py:1: TqdmDeprecationWarning: This function will be removed in tqdm==5.0.0\n",
      "Please use `tqdm.notebook.tqdm` instead of `tqdm.tqdm_notebook`\n",
      "  \"\"\"Entry point for launching an IPython kernel.\n"
     ]
    },
    {
     "data": {
      "application/vnd.jupyter.widget-view+json": {
       "model_id": "a31247adf5ac4edc86d4b2dcd7c4bfec",
       "version_major": 2,
       "version_minor": 0
      },
      "text/plain": [
       "HBox(children=(FloatProgress(value=0.0, max=24783.0), HTML(value='')))"
      ]
     },
     "metadata": {},
     "output_type": "display_data"
    },
    {
     "name": "stdout",
     "output_type": "stream",
     "text": [
      "\n"
     ]
    }
   ],
   "source": [
    "for i in tqdm(range(len(df))):\n",
    "    df.loc[i,\"c_tweet\"]=preprocess_text(df.loc[i,\"tweet\"])"
   ]
  },
  {
   "cell_type": "code",
   "execution_count": 6,
   "metadata": {},
   "outputs": [
    {
     "name": "stderr",
     "output_type": "stream",
     "text": [
      "C:\\Users\\Pravash Ranjan\\anaconda3\\lib\\site-packages\\ipykernel_launcher.py:1: FutureWarning: Passing a negative integer is deprecated in version 1.0 and will not be supported in future version. Instead, use None to not limit the column width.\n",
      "  \"\"\"Entry point for launching an IPython kernel.\n"
     ]
    },
    {
     "data": {
      "text/plain": [
       "0    rt woman shouldnt complain cleaning house amp man always take trash       \n",
       "1    rt boy dats coldtyga dwn bad cuffin dat hoe 1st place                     \n",
       "2    rt dawg rt ever fuck bitch start cry confused shit                        \n",
       "3    rt look like tranny                                                       \n",
       "4    rt shit hear might true might faker bitch told ya 57361                   \n",
       "5    shit blows meclaim faithful somebody still fucking hoes 128514128514128514\n",
       "6    sit hate another bitch got much shit going                                \n",
       "7    8220 cause im tired big bitches coming us skinny girls8221                \n",
       "8    amp might get ya bitch back amp thats                                     \n",
       "9    hobbies include fighting mariam bitch                                     \n",
       "Name: tweet, dtype: object"
      ]
     },
     "execution_count": 6,
     "metadata": {},
     "output_type": "execute_result"
    }
   ],
   "source": [
    "pd.set_option('display.max_colwidth', -1)\n",
    "df.tweet[:10]"
   ]
  },
  {
   "cell_type": "code",
   "execution_count": 7,
   "metadata": {},
   "outputs": [
    {
     "name": "stderr",
     "output_type": "stream",
     "text": [
      "C:\\Users\\Pravash Ranjan\\anaconda3\\lib\\site-packages\\ipykernel_launcher.py:1: FutureWarning: Passing a negative integer is deprecated in version 1.0 and will not be supported in future version. Instead, use None to not limit the column width.\n",
      "  \"\"\"Entry point for launching an IPython kernel.\n"
     ]
    },
    {
     "data": {
      "text/plain": [
       "0    woman shouldnt complain cleaning house amp man always take trash\n",
       "1    boy dat coldtyga dwn bad cuffin dat hoe place                   \n",
       "2    dawg ever fuck bitch start cry confused shit                    \n",
       "3    look like tranny                                                \n",
       "4    shit hear might true might faker bitch told                     \n",
       "5    shit blow meclaim faithful somebody still fucking hoe           \n",
       "6    sit hate another bitch got much shit going                      \n",
       "7    cause tired big bitch coming skinny girl                        \n",
       "8    amp might get bitch back amp thats                              \n",
       "9    hobby include fighting mariam bitch                             \n",
       "Name: c_tweet, dtype: object"
      ]
     },
     "execution_count": 7,
     "metadata": {},
     "output_type": "execute_result"
    }
   ],
   "source": [
    "pd.set_option('display.max_colwidth', -1)\n",
    "df.c_tweet[:10]"
   ]
  },
  {
   "cell_type": "code",
   "execution_count": null,
   "metadata": {},
   "outputs": [],
   "source": [
    "preprocess_text(\"rt boy dats coldtyga dwn bad cuffin dat hoe 1st place \")"
   ]
  },
  {
   "cell_type": "code",
   "execution_count": 8,
   "metadata": {},
   "outputs": [],
   "source": [
    "from sklearn.feature_extraction.text import TfidfVectorizer\n",
    "tweets=df.c_tweet\n",
    "tfidf=TfidfVectorizer(min_df=2,max_df=0.5,ngram_range=(1,2))\n",
    "features=tfidf.fit_transform(tweets)\n",
    "new_df=pd.DataFrame(features.todense(),columns=tfidf.get_feature_names())"
   ]
  },
  {
   "cell_type": "code",
   "execution_count": 9,
   "metadata": {},
   "outputs": [
    {
     "data": {
      "text/plain": [
       "22943"
      ]
     },
     "execution_count": 9,
     "metadata": {},
     "output_type": "execute_result"
    }
   ],
   "source": [
    "len(new_df.columns)"
   ]
  },
  {
   "cell_type": "code",
   "execution_count": 18,
   "metadata": {},
   "outputs": [
    {
     "data": {
      "text/plain": [
       "3.71516427405715"
      ]
     },
     "execution_count": 18,
     "metadata": {},
     "output_type": "execute_result"
    }
   ],
   "source": [
    "sum(new_df.iloc[0].values)"
   ]
  },
  {
   "cell_type": "code",
   "execution_count": 10,
   "metadata": {},
   "outputs": [
    {
     "data": {
      "text/plain": [
       "24783"
      ]
     },
     "execution_count": 10,
     "metadata": {},
     "output_type": "execute_result"
    }
   ],
   "source": [
    "len(new_df)"
   ]
  },
  {
   "cell_type": "code",
   "execution_count": 11,
   "metadata": {},
   "outputs": [],
   "source": [
    "new_df[\"class\"]=df[\"class\"]"
   ]
  },
  {
   "cell_type": "code",
   "execution_count": 12,
   "metadata": {},
   "outputs": [
    {
     "name": "stdout",
     "output_type": "stream",
     "text": [
      "20620 4163\n"
     ]
    }
   ],
   "source": [
    "hate=new_df[(new_df[\"class\"]==1) | (new_df[\"class\"]==0)]\n",
    "non_hate=new_df[new_df[\"class\"]==2]\n",
    "print(len(hate),len(non_hate))"
   ]
  },
  {
   "cell_type": "code",
   "execution_count": 13,
   "metadata": {},
   "outputs": [
    {
     "name": "stdout",
     "output_type": "stream",
     "text": [
      "1    6000\n",
      "0    3000\n",
      "Name: class, dtype: int64\n",
      "1    4000\n",
      "0    1163\n",
      "Name: class, dtype: int64\n"
     ]
    }
   ],
   "source": [
    "train=hate[0:6000]\n",
    "train_final=pd.concat([train,non_hate[0:3000]])\n",
    "test=hate[6001:10001]\n",
    "test_final=pd.concat([test,non_hate[3000:]])\n",
    "train_final[\"class\"].replace(0,1,inplace=True)\n",
    "train_final[\"class\"].replace(2,0,inplace=True)\n",
    "test_final[\"class\"].replace(0,1,inplace=True)\n",
    "test_final[\"class\"].replace(2,0,inplace=True)\n",
    "print(train_final[\"class\"].value_counts())\n",
    "print(test_final[\"class\"].value_counts())"
   ]
  },
  {
   "cell_type": "code",
   "execution_count": 14,
   "metadata": {},
   "outputs": [],
   "source": [
    "from sklearn.utils import shuffle\n",
    "train_final = shuffle(train_final)"
   ]
  },
  {
   "cell_type": "code",
   "execution_count": 62,
   "metadata": {},
   "outputs": [],
   "source": [
    "test_final.to_csv(\"test_final.csv\")"
   ]
  },
  {
   "cell_type": "code",
   "execution_count": 63,
   "metadata": {},
   "outputs": [],
   "source": [
    "train_final.to_csv(\"train_final.csv\")"
   ]
  },
  {
   "cell_type": "code",
   "execution_count": 15,
   "metadata": {},
   "outputs": [],
   "source": [
    "X_train=(train_final.drop([\"class\"],axis=1)).values\n",
    "y_train=train_final[\"class\"].values\n",
    "y_train=y_train.astype(np.float32)\n",
    "X_test=(test_final.drop([\"class\"],axis=1)).values\n",
    "y_test=test_final[\"class\"].values\n",
    "y_test=y_test.astype(np.float32)"
   ]
  },
  {
   "cell_type": "code",
   "execution_count": 16,
   "metadata": {},
   "outputs": [],
   "source": [
    "X_train[X_train!=X_train]=0.0\n",
    "X_test[X_test!=X_test]=0.0"
   ]
  },
  {
   "cell_type": "code",
   "execution_count": 17,
   "metadata": {},
   "outputs": [
    {
     "data": {
      "text/plain": [
       "(24783, 22943)"
      ]
     },
     "execution_count": 17,
     "metadata": {},
     "output_type": "execute_result"
    }
   ],
   "source": [
    "new_df.shape"
   ]
  },
  {
   "cell_type": "code",
   "execution_count": 18,
   "metadata": {},
   "outputs": [],
   "source": [
    "import torch\n",
    "X_train_tensor=torch.from_numpy(X_train)\n",
    "y_train_tensor=torch.from_numpy(y_train)\n",
    "\n",
    "X_test_tensor=torch.from_numpy(X_test)\n",
    "y_test_tensor=torch.from_numpy(y_test)\n",
    "\n",
    "y_train_tensor=torch.reshape(y_train_tensor,(y_train_tensor.shape[0],1))\n",
    "y_test_tensor=torch.reshape(y_test_tensor,(y_test_tensor.shape[0],1))"
   ]
  },
  {
   "cell_type": "code",
   "execution_count": 77,
   "metadata": {},
   "outputs": [],
   "source": [
    "#22942\n",
    "import torch.nn as nn\n",
    "class FirstNetwork_v2(nn.Module):\n",
    "    \n",
    "    def __init__(self):\n",
    "        super().__init__()\n",
    "        torch.manual_seed(0)\n",
    "        self.net = nn.Sequential(\n",
    "        nn.Linear(22942, 1), \n",
    "        nn.Sigmoid() \n",
    "        \n",
    "    )\n",
    "        \n",
    "\n",
    "    def forward(self, X):\n",
    "         return self.net(X)\n",
    "        \n",
    "        \n",
    "def fit_v2(x, y, model, opt, loss_fn, epochs = 1,batch_size=30):\n",
    "    ls=[]\n",
    "    train=[]\n",
    "    nh=[]\n",
    "    test=[]\n",
    "    \n",
    "    no_of_batches=9000//batch_size\n",
    "    for epoch in tqdm(range(epochs)):\n",
    "        for i in range(no_of_batches):\n",
    "            X_batch=x[i*batch_size:i*batch_size+batch_size,:]\n",
    "            y_batch=y[i*batch_size:i*batch_size+batch_size,:]\n",
    "            md=fn(X_batch.float())\n",
    "            #print(md)\n",
    "            #print(y)\n",
    "\n",
    "            loss = loss_fn(md, y_batch)\n",
    "\n",
    "            #print(i,loss)\n",
    "            \n",
    "            loss.backward()\n",
    "            opt.step()\n",
    "            opt.zero_grad()\n",
    "        ls.append(loss.item())        \n",
    "        train.append(((fn(X_train_tensor.float())>0.5).type(torch.int)==y_train_tensor).sum().item()/y_train.shape[0]*100)\n",
    "        opt.zero_grad()\n",
    "        test.append(((fn(X_test_tensor.float())>0.5).type(torch.int)==y_test_tensor).sum().item()/y_test.shape[0]*100)\n",
    "        opt.zero_grad()\n",
    "        \n",
    "        #print(loss)\n",
    "    print(\"Model: Logistic Regression , Loss fn: MSE , Optimizer: Adam , LR: 0.0001 , Epochs: 75 , Batch_size= 30\")\n",
    "    plt.plot(train,color=\"blue\",label='Training Accuracy')\n",
    "    plt.plot(test,color=\"red\",label='Testing Accuracy')\n",
    "    #plt.plot(nh,color=\"green\",label='Non-Hate Accuracy')\n",
    "    plt.xlabel(\"epochs\")\n",
    "    plt.ylabel(\"Accuracy\")\n",
    "    plt.legend(loc=\"best\")\n",
    "    plt.show()    \n",
    "    return ls"
   ]
  },
  {
   "cell_type": "code",
   "execution_count": 78,
   "metadata": {},
   "outputs": [
    {
     "name": "stdout",
     "output_type": "stream",
     "text": [
      "torch.Size([9000, 22942]) torch.Size([9000, 1])\n"
     ]
    },
    {
     "name": "stderr",
     "output_type": "stream",
     "text": [
      "C:\\Users\\Pravash Ranjan\\anaconda3\\lib\\site-packages\\ipykernel_launcher.py:26: TqdmDeprecationWarning: This function will be removed in tqdm==5.0.0\n",
      "Please use `tqdm.notebook.tqdm` instead of `tqdm.tqdm_notebook`\n"
     ]
    },
    {
     "data": {
      "application/vnd.jupyter.widget-view+json": {
       "model_id": "8a9806fe006a48289f4b8db6c62eee8a",
       "version_major": 2,
       "version_minor": 0
      },
      "text/plain": [
       "HBox(children=(FloatProgress(value=0.0, max=75.0), HTML(value='')))"
      ]
     },
     "metadata": {},
     "output_type": "display_data"
    },
    {
     "name": "stdout",
     "output_type": "stream",
     "text": [
      "\n",
      "Model: Logistic Regression , Loss fn: MSE , Optimizer: Adam , LR: 0.0001 , Epochs: 75 , Batch_size= 30\n"
     ]
    },
    {
     "data": {
      "image/png": "[encoded data removed]",
      "text/plain": [
       "<Figure size 432x288 with 1 Axes>"
      ]
     },
     "metadata": {
      "needs_background": "light"
     },
     "output_type": "display_data"
    },
    {
     "name": "stdout",
     "output_type": "stream",
     "text": [
      "Model: Logistic Regression , Loss fn: MSE , Optimizer: Adam , LR: 0.0001 , Epochs: 75 , Batch_size= 30\n"
     ]
    },
    {
     "data": {
      "image/png": "[encoded data removed]",
      "text/plain": [
       "<Figure size 432x288 with 1 Axes>"
      ]
     },
     "metadata": {
      "needs_background": "light"
     },
     "output_type": "display_data"
    },
    {
     "data": {
      "text/plain": [
       "<Figure size 1080x1080 with 0 Axes>"
      ]
     },
     "metadata": {},
     "output_type": "display_data"
    }
   ],
   "source": [
    "import torch.nn.functional as F\n",
    "from torch import optim\n",
    "print(X_train_tensor.shape,y_train_tensor.shape)\n",
    "fn = FirstNetwork_v2()\n",
    "loss_fn = [nn.BCELoss(),F.mse_loss]\n",
    "opt = optim.Adam(fn.parameters(), lr=.0001)\n",
    "ls=fit_v2(X_train_tensor, y_train_tensor, fn, opt, loss_fn[1],epochs=75,batch_size=30)\n",
    "print(\"Model: Logistic Regression , Loss fn: MSE , Optimizer: Adam , LR: 0.0001 , Epochs: 75 , Batch_size= 30\")\n",
    "plt.plot(ls)\n",
    "plt.xlabel(\"epochs\")\n",
    "plt.ylabel(\"Loss\")\n",
    "plt.figure(figsize=(15,15))\n",
    "plt.show()"
   ]
  },
  {
   "cell_type": "code",
   "execution_count": 79,
   "metadata": {},
   "outputs": [
    {
     "data": {
      "text/plain": [
       "89.83333333333333"
      ]
     },
     "execution_count": 79,
     "metadata": {},
     "output_type": "execute_result"
    }
   ],
   "source": [
    "#Train Accuracy\n",
    "((fn(X_train_tensor.float())>0.5).type(torch.int)==y_train_tensor).sum().item()/y_train.shape[0]*100"
   ]
  },
  {
   "cell_type": "code",
   "execution_count": 80,
   "metadata": {},
   "outputs": [
    {
     "data": {
      "text/plain": [
       "89.07611853573503"
      ]
     },
     "execution_count": 80,
     "metadata": {},
     "output_type": "execute_result"
    }
   ],
   "source": [
    "#Test Accuracy\n",
    "((fn(X_test_tensor.float())>0.5).type(torch.int)==y_test_tensor).sum().item()/y_test.shape[0]*100"
   ]
  },
  {
   "cell_type": "code",
   "execution_count": 5,
   "metadata": {
    "scrolled": false
   },
   "outputs": [
    {
     "name": "stdout",
     "output_type": "stream",
     "text": [
      "Text Corpus Example\n",
      "['how are you', 'good to see you']\n",
      "Uni-grams and Bi-grams ['are', 'are you', 'good', 'good to', 'how', 'how are', 'see', 'see you', 'to', 'to see', 'you']\n"
     ]
    },
    {
     "data": {
      "text/html": [
       "<div>\n",
       "<style scoped>\n",
       "    .dataframe tbody tr th:only-of-type {\n",
       "        vertical-align: middle;\n",
       "    }\n",
       "\n",
       "    .dataframe tbody tr th {\n",
       "        vertical-align: top;\n",
       "    }\n",
       "\n",
       "    .dataframe thead th {\n",
       "        text-align: right;\n",
       "    }\n",
       "</style>\n",
       "<table border=\"1\" class=\"dataframe\">\n",
       "  <thead>\n",
       "    <tr style=\"text-align: right;\">\n",
       "      <th></th>\n",
       "      <th>are</th>\n",
       "      <th>are you</th>\n",
       "      <th>good</th>\n",
       "      <th>good to</th>\n",
       "      <th>how</th>\n",
       "      <th>how are</th>\n",
       "      <th>see</th>\n",
       "      <th>see you</th>\n",
       "      <th>to</th>\n",
       "      <th>to see</th>\n",
       "      <th>you</th>\n",
       "    </tr>\n",
       "  </thead>\n",
       "  <tbody>\n",
       "    <tr>\n",
       "      <th>0</th>\n",
       "      <td>0.471078</td>\n",
       "      <td>0.471078</td>\n",
       "      <td>0.000000</td>\n",
       "      <td>0.000000</td>\n",
       "      <td>0.471078</td>\n",
       "      <td>0.471078</td>\n",
       "      <td>0.000000</td>\n",
       "      <td>0.000000</td>\n",
       "      <td>0.000000</td>\n",
       "      <td>0.000000</td>\n",
       "      <td>0.335176</td>\n",
       "    </tr>\n",
       "    <tr>\n",
       "      <th>1</th>\n",
       "      <td>0.000000</td>\n",
       "      <td>0.000000</td>\n",
       "      <td>0.392044</td>\n",
       "      <td>0.392044</td>\n",
       "      <td>0.000000</td>\n",
       "      <td>0.000000</td>\n",
       "      <td>0.392044</td>\n",
       "      <td>0.392044</td>\n",
       "      <td>0.392044</td>\n",
       "      <td>0.392044</td>\n",
       "      <td>0.278943</td>\n",
       "    </tr>\n",
       "  </tbody>\n",
       "</table>\n",
       "</div>"
      ],
      "text/plain": [
       "        are   are you      good   good to       how   how are       see  \\\n",
       "0  0.471078  0.471078  0.000000  0.000000  0.471078  0.471078  0.000000   \n",
       "1  0.000000  0.000000  0.392044  0.392044  0.000000  0.000000  0.392044   \n",
       "\n",
       "    see you        to    to see       you  \n",
       "0  0.000000  0.000000  0.000000  0.335176  \n",
       "1  0.392044  0.392044  0.392044  0.278943  "
      ]
     },
     "execution_count": 5,
     "metadata": {},
     "output_type": "execute_result"
    }
   ],
   "source": [
    "from sklearn.feature_extraction.text import TfidfVectorizer\n",
    "corpus=[\"how are you\" ,\"good to see you\"]\n",
    "tf=TfidfVectorizer(ngram_range=(1,2))\n",
    "feat=tf.fit_transform(corpus)\n",
    "cl=tf.get_feature_names()\n",
    "s=[\"are you lost or just fine\"]\n",
    "vector=[]\n",
    "print(\"Text Corpus Example\")\n",
    "print(corpus)\n",
    "print(\"Uni-grams and Bi-grams\",cl)\n",
    "ex_df=pd.DataFrame(feat.todense(),columns=cl)\n",
    "ex_df"
   ]
  },
  {
   "cell_type": "code",
   "execution_count": 82,
   "metadata": {},
   "outputs": [
    {
     "name": "stdout",
     "output_type": "stream",
     "text": [
      "803\n"
     ]
    },
    {
     "data": {
      "text/plain": [
       "0.19288974297381695"
      ]
     },
     "execution_count": 82,
     "metadata": {},
     "output_type": "execute_result"
    }
   ],
   "source": [
    "sentence=df[df[\"class\"]==2][\"c_tweet\"].values\n",
    "vec=tfidf.transform(sentence).todense()\n",
    "vev=vec[:,:-1]\n",
    "res=fn(torch.tensor(vev).float())\n",
    "print((len(sentence)-(res>0.5).sum().item()))\n",
    "(len(sentence)-(res>0.5).sum().item())/len(sentence)"
   ]
  },
  {
   "cell_type": "code",
   "execution_count": 81,
   "metadata": {},
   "outputs": [
    {
     "name": "stdout",
     "output_type": "stream",
     "text": [
      "\"'cuteie pie\" - Hate\n",
      "\"all jews are swine\" - Hate\n",
      "\"you are a friendly person\" - Hate\n",
      "\"shut up nigger\" - Hate\n",
      "\"black people deserve to burn in hell\" - Hate\n",
      "\"what are you looking at , dumb fuck !\" - Hate\n",
      "\"good people are found everywhere\" - Hate\n"
     ]
    }
   ],
   "source": [
    "cat=[\"Clean\",\"Hate\"]\n",
    "sentence=[\"'cuteie pie\",\"all jews are swine\",\"you are a friendly person\",\"shut up nigger\",\"black people deserve to burn in hell\"\n",
    "         ,\"what are you looking at , dumb fuck !\",\"good people are found everywhere\"]\n",
    "vec=tfidf.transform(sentence).todense()\n",
    "vev=vec[:,:-1]\n",
    "res=fn(torch.tensor(vev).float())\n",
    "for i in range(len(sentence)):\n",
    "    print(\"\\\"\"+sentence[i]+\"\\\" -\",cat[int(res[i].item()>0.5)])"
   ]
  },
  {
   "cell_type": "code",
   "execution_count": 50,
   "metadata": {},
   "outputs": [
    {
     "data": {
      "text/html": [
       "<div>\n",
       "<style scoped>\n",
       "    .dataframe tbody tr th:only-of-type {\n",
       "        vertical-align: middle;\n",
       "    }\n",
       "\n",
       "    .dataframe tbody tr th {\n",
       "        vertical-align: top;\n",
       "    }\n",
       "\n",
       "    .dataframe thead th {\n",
       "        text-align: right;\n",
       "    }\n",
       "</style>\n",
       "<table border=\"1\" class=\"dataframe\">\n",
       "  <thead>\n",
       "    <tr style=\"text-align: right;\">\n",
       "      <th></th>\n",
       "      <th>tweet</th>\n",
       "      <th>class</th>\n",
       "      <th>c_tweet</th>\n",
       "    </tr>\n",
       "  </thead>\n",
       "  <tbody>\n",
       "    <tr>\n",
       "      <th>0</th>\n",
       "      <td>rt woman shouldnt complain cleaning house amp man always take trash</td>\n",
       "      <td>2</td>\n",
       "      <td>woman shouldnt complain cleaning house amp man always take trash</td>\n",
       "    </tr>\n",
       "    <tr>\n",
       "      <th>40</th>\n",
       "      <td>momma said pussy cats inside doghouse</td>\n",
       "      <td>2</td>\n",
       "      <td>momma said pussy cat inside doghouse</td>\n",
       "    </tr>\n",
       "    <tr>\n",
       "      <th>63</th>\n",
       "      <td>simplyaddictedtoguys woof woof hot scally lad</td>\n",
       "      <td>2</td>\n",
       "      <td>simplyaddictedtoguys woof woof hot scally lad</td>\n",
       "    </tr>\n",
       "    <tr>\n",
       "      <th>66</th>\n",
       "      <td>woof woof hot soles</td>\n",
       "      <td>2</td>\n",
       "      <td>woof woof hot sol</td>\n",
       "    </tr>\n",
       "    <tr>\n",
       "      <th>67</th>\n",
       "      <td>lemmie eat oreo amp dishes one oreo lol</td>\n",
       "      <td>2</td>\n",
       "      <td>lemmie eat oreo amp dish one oreo lol</td>\n",
       "    </tr>\n",
       "    <tr>\n",
       "      <th>70</th>\n",
       "      <td>eggplant emoji doey say looked like scream lmao</td>\n",
       "      <td>2</td>\n",
       "      <td>eggplant emoji doey say looked like scream lmao</td>\n",
       "    </tr>\n",
       "    <tr>\n",
       "      <th>75</th>\n",
       "      <td>baby monkey bathtime awwwwe soooo adorable</td>\n",
       "      <td>2</td>\n",
       "      <td>baby monkey bathtime awwwwe soooo adorable</td>\n",
       "    </tr>\n",
       "    <tr>\n",
       "      <th>115</th>\n",
       "      <td>baseball season win yankees love started</td>\n",
       "      <td>2</td>\n",
       "      <td>baseball season win yankee love started</td>\n",
       "    </tr>\n",
       "    <tr>\n",
       "      <th>118</th>\n",
       "      <td>im early bird im night owl im wise worms</td>\n",
       "      <td>2</td>\n",
       "      <td>early bird night owl wise worm</td>\n",
       "    </tr>\n",
       "    <tr>\n",
       "      <th>119</th>\n",
       "      <td>overdosing heavy drugs doesnt sound bad tonight pussy shit every day</td>\n",
       "      <td>2</td>\n",
       "      <td>overdosing heavy drug doesnt sound bad tonight pussy shit every day</td>\n",
       "    </tr>\n",
       "    <tr>\n",
       "      <th>120</th>\n",
       "      <td>pit bulls photographed lovely fairy tale creatures fairy tale creatures</td>\n",
       "      <td>2</td>\n",
       "      <td>pit bull photographed lovely fairy tale creature fairy tale creature</td>\n",
       "    </tr>\n",
       "    <tr>\n",
       "      <th>122</th>\n",
       "      <td>long lakers trash could careless thats real cc hahaha</td>\n",
       "      <td>2</td>\n",
       "      <td>long lakers trash could careless thats real hahaha</td>\n",
       "    </tr>\n",
       "    <tr>\n",
       "      <th>124</th>\n",
       "      <td>play soccer cheat girls wear khaki coloured cargos haircut 128514 yup</td>\n",
       "      <td>2</td>\n",
       "      <td>play soccer cheat girl wear khaki coloured cargo haircut yup</td>\n",
       "    </tr>\n",
       "    <tr>\n",
       "      <th>140</th>\n",
       "      <td>isnt ghettoits smart im idc</td>\n",
       "      <td>2</td>\n",
       "      <td>isnt ghettoits smart idc</td>\n",
       "    </tr>\n",
       "    <tr>\n",
       "      <th>149</th>\n",
       "      <td>wants get nose bad bois scally chav sockfetish stinking hot sox legs</td>\n",
       "      <td>2</td>\n",
       "      <td>want get nose bad bois scally chav sockfetish stinking hot sox leg</td>\n",
       "    </tr>\n",
       "    <tr>\n",
       "      <th>158</th>\n",
       "      <td>peel peel bring back rewind back im move shaq line ooooow tf said trash</td>\n",
       "      <td>2</td>\n",
       "      <td>peel peel bring back rewind back move shaq line ooooow said trash</td>\n",
       "    </tr>\n",
       "    <tr>\n",
       "      <th>164</th>\n",
       "      <td>ucfpinkparty come stay alive knights nation still early bird special comeatmeut</td>\n",
       "      <td>2</td>\n",
       "      <td>ucfpinkparty come stay alive knight nation still early bird special comeatmeut</td>\n",
       "    </tr>\n",
       "    <tr>\n",
       "      <th>180</th>\n",
       "      <td>stay tuned update report 1b 810 weeks bum</td>\n",
       "      <td>2</td>\n",
       "      <td>stay tuned update report week bum</td>\n",
       "    </tr>\n",
       "    <tr>\n",
       "      <th>181</th>\n",
       "      <td>8220 play soccer cheat girls wear khaki coloured cargos haircut yes lmfao</td>\n",
       "      <td>2</td>\n",
       "      <td>play soccer cheat girl wear khaki coloured cargo haircut yes lmfao</td>\n",
       "    </tr>\n",
       "    <tr>\n",
       "      <th>186</th>\n",
       "      <td>pissed lad past would lick dirty soles slept</td>\n",
       "      <td>2</td>\n",
       "      <td>pissed lad past would lick dirty sol slept</td>\n",
       "    </tr>\n",
       "  </tbody>\n",
       "</table>\n",
       "</div>"
      ],
      "text/plain": [
       "                                                                               tweet  \\\n",
       "0    rt woman shouldnt complain cleaning house amp man always take trash               \n",
       "40   momma said pussy cats inside doghouse                                             \n",
       "63   simplyaddictedtoguys woof woof hot scally lad                                     \n",
       "66   woof woof hot soles                                                               \n",
       "67   lemmie eat oreo amp dishes one oreo lol                                           \n",
       "70   eggplant emoji doey say looked like scream lmao                                   \n",
       "75   baby monkey bathtime awwwwe soooo adorable                                        \n",
       "115  baseball season win yankees love started                                          \n",
       "118  im early bird im night owl im wise worms                                          \n",
       "119  overdosing heavy drugs doesnt sound bad tonight pussy shit every day              \n",
       "120  pit bulls photographed lovely fairy tale creatures fairy tale creatures           \n",
       "122  long lakers trash could careless thats real cc hahaha                             \n",
       "124  play soccer cheat girls wear khaki coloured cargos haircut 128514 yup             \n",
       "140  isnt ghettoits smart im idc                                                       \n",
       "149  wants get nose bad bois scally chav sockfetish stinking hot sox legs              \n",
       "158  peel peel bring back rewind back im move shaq line ooooow tf said trash           \n",
       "164  ucfpinkparty come stay alive knights nation still early bird special comeatmeut   \n",
       "180  stay tuned update report 1b 810 weeks bum                                         \n",
       "181  8220 play soccer cheat girls wear khaki coloured cargos haircut yes lmfao         \n",
       "186  pissed lad past would lick dirty soles slept                                      \n",
       "\n",
       "     class  \\\n",
       "0    2       \n",
       "40   2       \n",
       "63   2       \n",
       "66   2       \n",
       "67   2       \n",
       "70   2       \n",
       "75   2       \n",
       "115  2       \n",
       "118  2       \n",
       "119  2       \n",
       "120  2       \n",
       "122  2       \n",
       "124  2       \n",
       "140  2       \n",
       "149  2       \n",
       "158  2       \n",
       "164  2       \n",
       "180  2       \n",
       "181  2       \n",
       "186  2       \n",
       "\n",
       "                                                                            c_tweet  \n",
       "0    woman shouldnt complain cleaning house amp man always take trash                \n",
       "40   momma said pussy cat inside doghouse                                            \n",
       "63   simplyaddictedtoguys woof woof hot scally lad                                   \n",
       "66   woof woof hot sol                                                               \n",
       "67   lemmie eat oreo amp dish one oreo lol                                           \n",
       "70   eggplant emoji doey say looked like scream lmao                                 \n",
       "75   baby monkey bathtime awwwwe soooo adorable                                      \n",
       "115  baseball season win yankee love started                                         \n",
       "118  early bird night owl wise worm                                                  \n",
       "119  overdosing heavy drug doesnt sound bad tonight pussy shit every day             \n",
       "120  pit bull photographed lovely fairy tale creature fairy tale creature            \n",
       "122  long lakers trash could careless thats real hahaha                              \n",
       "124  play soccer cheat girl wear khaki coloured cargo haircut yup                    \n",
       "140  isnt ghettoits smart idc                                                        \n",
       "149  want get nose bad bois scally chav sockfetish stinking hot sox leg              \n",
       "158  peel peel bring back rewind back move shaq line ooooow said trash               \n",
       "164  ucfpinkparty come stay alive knight nation still early bird special comeatmeut  \n",
       "180  stay tuned update report week bum                                               \n",
       "181  play soccer cheat girl wear khaki coloured cargo haircut yes lmfao              \n",
       "186  pissed lad past would lick dirty sol slept                                      "
      ]
     },
     "execution_count": 50,
     "metadata": {},
     "output_type": "execute_result"
    }
   ],
   "source": [
    "sentence=df[df[\"class\"]==2]\n",
    "sentence[:20]"
   ]
  },
  {
   "cell_type": "code",
   "execution_count": null,
   "metadata": {},
   "outputs": [],
   "source": []
  }
 ],
 "metadata": {
  "kernelspec": {
   "display_name": "Python 3",
   "language": "python",
   "name": "python3"
  },
  "language_info": {
   "codemirror_mode": {
    "name": "ipython",
    "version": 3
   },
   "file_extension": ".py",
   "mimetype": "text/x-python",
   "name": "python",
   "nbconvert_exporter": "python",
   "pygments_lexer": "ipython3",
   "version": "3.8.5"
  }
 },
 "nbformat": 4,
 "nbformat_minor": 4
}
